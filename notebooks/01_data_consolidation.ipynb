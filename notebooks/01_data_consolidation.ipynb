{
 "cells": [
  {
   "cell_type": "markdown",
   "metadata": {},
   "source": [
    "# 01. Data Consolidation\n",
    "\n",
    "1. Merge separate files for each league and statistic type\n",
    "2. Combine FBRef statistics with Football Manager and FC data\n",
    "3. Ensure consistent player and team naming across all datasets"
   ]
  },
  {
   "cell_type": "code",
   "execution_count": 1,
   "metadata": {},
   "outputs": [],
   "source": [
    "# change wd to repo home\n",
    "import os\n",
    "if os.getcwd().split('\\\\')[-1] == 'notebooks':\n",
    "    os.chdir('..')"
   ]
  },
  {
   "cell_type": "code",
   "execution_count": 2,
   "metadata": {},
   "outputs": [],
   "source": [
    "from modules.fm_functions import *\n",
    "import warnings\n",
    "warnings.filterwarnings(action='ignore')"
   ]
  },
  {
   "cell_type": "markdown",
   "metadata": {},
   "source": [
    "## Combine all FBRef data into one dataframe"
   ]
  },
  {
   "cell_type": "code",
   "execution_count": 3,
   "metadata": {},
   "outputs": [],
   "source": [
    "import pandas as pd"
   ]
  },
  {
   "cell_type": "code",
   "execution_count": 4,
   "metadata": {},
   "outputs": [],
   "source": [
    "season = '2023'\n",
    "\n",
    "# load FBRef data in separate dfs\n",
    "fbref_dfs = {filename : pd.read_csv(f'data/FBRef_split/{filename}', index_col=0)\n",
    "             for filename in os.listdir('data/FBRef_split')\n",
    "             if filename.split('_')[-1][:4] == season}"
   ]
  },
  {
   "cell_type": "code",
   "execution_count": 5,
   "metadata": {},
   "outputs": [],
   "source": [
    "# combine FBRef dfs by type first\n",
    "table_types = ['defense', 'gca', 'keepersadv', 'keepers', 'misc', 'passingtypes',\n",
    "               'passing', 'playingtime', 'possession', 'shooting', 'stats']\n",
    "\n",
    "fbref_dfs_types = {}\n",
    "\n",
    "for t in table_types:\n",
    "    fbref_dfs_types[t] = {}\n",
    "    for k in fbref_dfs.keys():\n",
    "        if k.split('_')[1] == t:\n",
    "            fbref_dfs_types[t][k.split('_')[0]] = fbref_dfs[k]\n",
    "    try:\n",
    "        fbref_dfs_types[t] = pd.concat(fbref_dfs_types[t], axis=0, ignore_index=True).set_index(['_Player', '_Squad', '_Born'])\n",
    "    except:\n",
    "        print(t)"
   ]
  },
  {
   "cell_type": "code",
   "execution_count": 6,
   "metadata": {},
   "outputs": [],
   "source": [
    "# combine FBRef dfs into one\n",
    "fbref_combined_df = pd.concat(fbref_dfs_types, axis=1).reset_index()\n",
    "fbref_combined_df.columns = fbref_combined_df.columns.map(lambda x: '_'.join(map(str, x)))"
   ]
  },
  {
   "cell_type": "markdown",
   "metadata": {},
   "source": [
    "## Combine with FM and FC data"
   ]
  },
  {
   "cell_type": "code",
   "execution_count": 186,
   "metadata": {},
   "outputs": [],
   "source": [
    "# drop keepers\n",
    "fbref_combined_outfielders_df = fbref_combined_df[fbref_combined_df['stats__Pos']!='GK']\n",
    "# drop unknown YOB\n",
    "fbref_combined_outfielders_df = fbref_combined_outfielders_df.dropna(subset=['_Born_'])\n",
    "fbref_combined_outfielders_df['yob'] = fbref_combined_outfielders_df['_Born_'].astype('int')"
   ]
  },
  {
   "cell_type": "code",
   "execution_count": 188,
   "metadata": {},
   "outputs": [],
   "source": [
    "# load FM data\n",
    "FM_data = pd.read_csv('./data/FM 2023.csv')\n",
    "FM_data['dob'] = pd.to_datetime(FM_data['Date of birth'])\n",
    "FM_data['yob'] = FM_data['dob'].dt.year\n",
    "# load FC data\n",
    "FC_data = pd.read_csv('./data/FC24.csv')\n",
    "FC_data = FC_data[FC_data['update_as_of']=='2022-09-26']\n",
    "FC_data['dob'] = pd.to_datetime(FC_data['dob'])\n",
    "FC_data['yob'] = FC_data['dob'].dt.year"
   ]
  },
  {
   "cell_type": "code",
   "execution_count": 201,
   "metadata": {},
   "outputs": [],
   "source": [
    "from fuzzywuzzy import process\n",
    "\n",
    "# FM_data_grouped = FM_data.groupby('yob')\n",
    "# FC_data_grouped = FC_data.groupby('yob')\n",
    "fbref_combined_outfielders_grouped = fbref_combined_outfielders_df.groupby('yob')\n",
    "\n",
    "# Function to get the best match\n",
    "def get_best_match(name, yob, threshold=80):\n",
    "    try:\n",
    "        choices = fbref_combined_outfielders_grouped.get_group(yob)['_Player_']\n",
    "    except:\n",
    "        return None\n",
    "    match, score = process.extractOne(name, choices.values)\n",
    "    return match if score >= threshold else None"
   ]
  },
  {
   "cell_type": "code",
   "execution_count": 217,
   "metadata": {},
   "outputs": [],
   "source": [
    "FM_data['name_match'] = FM_data.apply(lambda row: get_best_match(\n",
    "    row['Name'], row['yob'], threshold=80), axis=1)"
   ]
  },
  {
   "cell_type": "code",
   "execution_count": 218,
   "metadata": {},
   "outputs": [],
   "source": [
    "FC_data['name_match'] = FC_data.apply(lambda row: get_best_match(\n",
    "    row['long_name'], row['yob'], threshold=80), axis=1)"
   ]
  },
  {
   "cell_type": "code",
   "execution_count": 223,
   "metadata": {},
   "outputs": [],
   "source": [
    "# combine FM and FC dataframes with FBRef\n",
    "FM_fbref_combined_df = fbref_combined_outfielders_df.merge(right=FM_data, left_on=['_Player_', '_Born_'], right_on=['name_match', 'yob'], how='inner')\n",
    "FC_fbref_combined_df = fbref_combined_outfielders_df.merge(right=FC_data, left_on=['_Player_', '_Born_'], right_on=['name_match', 'yob'], how='inner')"
   ]
  },
  {
   "cell_type": "code",
   "execution_count": 225,
   "metadata": {},
   "outputs": [],
   "source": [
    "# store the combined files\n",
    "FM_fbref_combined_df.to_csv(f'data/FM_fbref_combined_data_{season}.csv')\n",
    "FC_fbref_combined_df.to_csv(f'data/FC_fbref_combined_data_{season}.csv')"
   ]
  }
 ],
 "metadata": {
  "kernelspec": {
   "display_name": "fbref",
   "language": "python",
   "name": "python3"
  },
  "language_info": {
   "codemirror_mode": {
    "name": "ipython",
    "version": 3
   },
   "file_extension": ".py",
   "mimetype": "text/x-python",
   "name": "python",
   "nbconvert_exporter": "python",
   "pygments_lexer": "ipython3",
   "version": "3.12.0"
  }
 },
 "nbformat": 4,
 "nbformat_minor": 2
}
