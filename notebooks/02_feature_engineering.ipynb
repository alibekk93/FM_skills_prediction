{
 "cells": [
  {
   "cell_type": "markdown",
   "metadata": {},
   "source": [
    "# 02. Feature Engineering\n",
    "\n",
    "Select, combine and engineer features for the model"
   ]
  },
  {
   "cell_type": "code",
   "execution_count": 1,
   "metadata": {},
   "outputs": [],
   "source": [
    "# change wd to repo home\n",
    "import os\n",
    "if os.getcwd().split('\\\\')[-1] != 'FM skills prediction':\n",
    "    os.chdir('..')"
   ]
  },
  {
   "cell_type": "code",
   "execution_count": 2,
   "metadata": {},
   "outputs": [],
   "source": [
    "import pandas as pd"
   ]
  },
  {
   "cell_type": "code",
   "execution_count": 44,
   "metadata": {},
   "outputs": [
    {
     "data": {
      "text/plain": [
       "(1269, 384)"
      ]
     },
     "execution_count": 44,
     "metadata": {},
     "output_type": "execute_result"
    }
   ],
   "source": [
    "# load the combined df\n",
    "combined_data = pd.read_csv('data/FB_FBRef_combined.csv', index_col=0)\n",
    "\n",
    "# drop keepers\n",
    "combined_data = combined_data[combined_data['Position'] != 'GK']\n",
    "combined_data.shape"
   ]
  },
  {
   "cell_type": "code",
   "execution_count": 79,
   "metadata": {},
   "outputs": [],
   "source": [
    "# select columns\n",
    "FM_columns = ['Name', 'Position', 'Corners', 'Crossing', 'Dribbling', 'Finishing', 'First Touch',\n",
    "              'Free Kick Taking', 'Heading', 'Long Shots', 'Long Throws', 'Marking', 'Passing',\n",
    "              'Penalty Taking', 'Tackling', 'Technique', 'Aggressiion', 'Anticipation', 'Bravery',\n",
    "              'Composure', 'Concentration', 'Vision', 'Decision', 'Determination', 'Flair', 'Leadership',\n",
    "              'Off The Ball', 'Teamwork', 'Work Rate', 'Positioning', 'Acceleration', 'Agility', 'Balance',\n",
    "              'Jumping Reach', 'Natural Fitness', 'Pace', 'Stamina', 'Strength']\n",
    "defense_columns = ['defense_Blocks_Blocks', 'defense_Tackles_Tkl', 'defense_Tackles_TklW',\n",
    "                   'defense_Tackles_Def 3rd', 'defense_Tackles_Mid 3rd', 'defense_Tackles_Att 3rd',\n",
    "                   'defense__Int', 'defense__Clr']\n",
    "touches_columns = ['possession_Touches_Def Pen', 'possession_Touches_Def 3rd', 'possession_Touches_Mid 3rd',\n",
    "                   'possession_Touches_Att 3rd', 'possession_Touches_Att Pen', 'possession_Touches_Touches']\n",
    "passing_columns = ['passing_Total_Att', 'passing_Short_Att', 'passing_Medium_Att', 'passing_Long_Att',\n",
    "                   'passing__KP', 'passing__CrsPA', 'passing__PrgP']\n",
    "progres_columns = ['possession_Carries_PrgDist', 'possession_Carries_TotDist', 'possession_Receiving_Rec',\n",
    "                   'possession_Receiving_PrgR', 'possession_Take-Ons_Att', 'possession_Take-Ons_Succ']\n",
    "attack_columns = ['gca_SCATypes_TO', 'gca_SCATypes_Sh', 'gca_SCATypes_Fld', 'gca_SCATypes_Def',\n",
    "                  'gca_SCATypes_PassLive', 'gca_SCATypes_PassDead', 'shooting_Standard_Dist',\n",
    "                  'shooting_Expected_npxG']\n",
    "misc_columns = ['playingtime_PlayingTime_Min', 'misc_Performance_Fls', 'misc_Performance_Fld',\n",
    "                'misc_Performance_Off', 'misc_AerialDuels_Won', 'misc_AerialDuels_Lost']"
   ]
  },
  {
   "cell_type": "markdown",
   "metadata": {},
   "source": [
    "## Processing of stats columns\n",
    "We will normalize stats per each team. The point is that a defensive player of a stronger team might have more attacking stats than an attacking player of a weaker team just because of overall possession and tactics. Team information would be passed as a cluster type, but for the purpose of stats analysis it is best to have information about a player from within the team, how important their contribution is for the team"
   ]
  },
  {
   "cell_type": "code",
   "execution_count": null,
   "metadata": {},
   "outputs": [],
   "source": []
  },
  {
   "cell_type": "code",
   "execution_count": null,
   "metadata": {},
   "outputs": [],
   "source": []
  },
  {
   "cell_type": "code",
   "execution_count": null,
   "metadata": {},
   "outputs": [],
   "source": []
  },
  {
   "cell_type": "code",
   "execution_count": null,
   "metadata": {},
   "outputs": [],
   "source": []
  },
  {
   "cell_type": "markdown",
   "metadata": {},
   "source": [
    "### touches"
   ]
  },
  {
   "cell_type": "code",
   "execution_count": 51,
   "metadata": {},
   "outputs": [
    {
     "data": {
      "text/html": [
       "<div>\n",
       "<style scoped>\n",
       "    .dataframe tbody tr th:only-of-type {\n",
       "        vertical-align: middle;\n",
       "    }\n",
       "\n",
       "    .dataframe tbody tr th {\n",
       "        vertical-align: top;\n",
       "    }\n",
       "\n",
       "    .dataframe thead th {\n",
       "        text-align: right;\n",
       "    }\n",
       "</style>\n",
       "<table border=\"1\" class=\"dataframe\">\n",
       "  <thead>\n",
       "    <tr style=\"text-align: right;\">\n",
       "      <th></th>\n",
       "      <th>possession_Touches_Def Pen</th>\n",
       "      <th>possession_Touches_Def 3rd</th>\n",
       "      <th>possession_Touches_Mid 3rd</th>\n",
       "      <th>possession_Touches_Att 3rd</th>\n",
       "      <th>possession_Touches_Att Pen</th>\n",
       "      <th>possession_Touches_Touches</th>\n",
       "    </tr>\n",
       "  </thead>\n",
       "  <tbody>\n",
       "    <tr>\n",
       "      <th>0</th>\n",
       "      <td>11.0</td>\n",
       "      <td>68.0</td>\n",
       "      <td>240.0</td>\n",
       "      <td>384.0</td>\n",
       "      <td>65.0</td>\n",
       "      <td>676.0</td>\n",
       "    </tr>\n",
       "    <tr>\n",
       "      <th>1</th>\n",
       "      <td>9.0</td>\n",
       "      <td>74.0</td>\n",
       "      <td>394.0</td>\n",
       "      <td>327.0</td>\n",
       "      <td>67.0</td>\n",
       "      <td>786.0</td>\n",
       "    </tr>\n",
       "    <tr>\n",
       "      <th>2</th>\n",
       "      <td>18.0</td>\n",
       "      <td>139.0</td>\n",
       "      <td>387.0</td>\n",
       "      <td>160.0</td>\n",
       "      <td>22.0</td>\n",
       "      <td>674.0</td>\n",
       "    </tr>\n",
       "    <tr>\n",
       "      <th>3</th>\n",
       "      <td>8.0</td>\n",
       "      <td>34.0</td>\n",
       "      <td>291.0</td>\n",
       "      <td>236.0</td>\n",
       "      <td>76.0</td>\n",
       "      <td>555.0</td>\n",
       "    </tr>\n",
       "    <tr>\n",
       "      <th>4</th>\n",
       "      <td>143.0</td>\n",
       "      <td>613.0</td>\n",
       "      <td>609.0</td>\n",
       "      <td>93.0</td>\n",
       "      <td>16.0</td>\n",
       "      <td>1306.0</td>\n",
       "    </tr>\n",
       "    <tr>\n",
       "      <th>...</th>\n",
       "      <td>...</td>\n",
       "      <td>...</td>\n",
       "      <td>...</td>\n",
       "      <td>...</td>\n",
       "      <td>...</td>\n",
       "      <td>...</td>\n",
       "    </tr>\n",
       "    <tr>\n",
       "      <th>1375</th>\n",
       "      <td>17.0</td>\n",
       "      <td>32.0</td>\n",
       "      <td>252.0</td>\n",
       "      <td>319.0</td>\n",
       "      <td>93.0</td>\n",
       "      <td>597.0</td>\n",
       "    </tr>\n",
       "    <tr>\n",
       "      <th>1376</th>\n",
       "      <td>31.0</td>\n",
       "      <td>261.0</td>\n",
       "      <td>415.0</td>\n",
       "      <td>456.0</td>\n",
       "      <td>56.0</td>\n",
       "      <td>1122.0</td>\n",
       "    </tr>\n",
       "    <tr>\n",
       "      <th>1377</th>\n",
       "      <td>19.0</td>\n",
       "      <td>183.0</td>\n",
       "      <td>822.0</td>\n",
       "      <td>765.0</td>\n",
       "      <td>54.0</td>\n",
       "      <td>1755.0</td>\n",
       "    </tr>\n",
       "    <tr>\n",
       "      <th>1378</th>\n",
       "      <td>32.0</td>\n",
       "      <td>62.0</td>\n",
       "      <td>314.0</td>\n",
       "      <td>270.0</td>\n",
       "      <td>60.0</td>\n",
       "      <td>644.0</td>\n",
       "    </tr>\n",
       "    <tr>\n",
       "      <th>1379</th>\n",
       "      <td>15.0</td>\n",
       "      <td>145.0</td>\n",
       "      <td>488.0</td>\n",
       "      <td>380.0</td>\n",
       "      <td>34.0</td>\n",
       "      <td>992.0</td>\n",
       "    </tr>\n",
       "  </tbody>\n",
       "</table>\n",
       "<p>1269 rows × 6 columns</p>\n",
       "</div>"
      ],
      "text/plain": [
       "      possession_Touches_Def Pen  possession_Touches_Def 3rd  \\\n",
       "0                           11.0                        68.0   \n",
       "1                            9.0                        74.0   \n",
       "2                           18.0                       139.0   \n",
       "3                            8.0                        34.0   \n",
       "4                          143.0                       613.0   \n",
       "...                          ...                         ...   \n",
       "1375                        17.0                        32.0   \n",
       "1376                        31.0                       261.0   \n",
       "1377                        19.0                       183.0   \n",
       "1378                        32.0                        62.0   \n",
       "1379                        15.0                       145.0   \n",
       "\n",
       "      possession_Touches_Mid 3rd  possession_Touches_Att 3rd  \\\n",
       "0                          240.0                       384.0   \n",
       "1                          394.0                       327.0   \n",
       "2                          387.0                       160.0   \n",
       "3                          291.0                       236.0   \n",
       "4                          609.0                        93.0   \n",
       "...                          ...                         ...   \n",
       "1375                       252.0                       319.0   \n",
       "1376                       415.0                       456.0   \n",
       "1377                       822.0                       765.0   \n",
       "1378                       314.0                       270.0   \n",
       "1379                       488.0                       380.0   \n",
       "\n",
       "      possession_Touches_Att Pen  possession_Touches_Touches  \n",
       "0                           65.0                       676.0  \n",
       "1                           67.0                       786.0  \n",
       "2                           22.0                       674.0  \n",
       "3                           76.0                       555.0  \n",
       "4                           16.0                      1306.0  \n",
       "...                          ...                         ...  \n",
       "1375                        93.0                       597.0  \n",
       "1376                        56.0                      1122.0  \n",
       "1377                        54.0                      1755.0  \n",
       "1378                        60.0                       644.0  \n",
       "1379                        34.0                       992.0  \n",
       "\n",
       "[1269 rows x 6 columns]"
      ]
     },
     "execution_count": 51,
     "metadata": {},
     "output_type": "execute_result"
    }
   ],
   "source": [
    "combined_data[touches_columns]"
   ]
  },
  {
   "cell_type": "code",
   "execution_count": 52,
   "metadata": {},
   "outputs": [
    {
     "data": {
      "text/plain": [
       "0        768.0\n",
       "1        871.0\n",
       "2        726.0\n",
       "3        645.0\n",
       "4       1474.0\n",
       "         ...  \n",
       "1375     713.0\n",
       "1376    1219.0\n",
       "1377    1843.0\n",
       "1378     738.0\n",
       "1379    1062.0\n",
       "Length: 1269, dtype: float64"
      ]
     },
     "execution_count": 52,
     "metadata": {},
     "output_type": "execute_result"
    }
   ],
   "source": [
    "combined_data[touches_columns[:-1]].apply('sum', axis=1)"
   ]
  },
  {
   "cell_type": "code",
   "execution_count": 56,
   "metadata": {},
   "outputs": [
    {
     "data": {
      "text/plain": [
       "0        676.0\n",
       "1        786.0\n",
       "2        674.0\n",
       "3        555.0\n",
       "4       1306.0\n",
       "         ...  \n",
       "1375     597.0\n",
       "1376    1122.0\n",
       "1377    1755.0\n",
       "1378     644.0\n",
       "1379     992.0\n",
       "Name: possession_Touches_Touches, Length: 1269, dtype: float64"
      ]
     },
     "execution_count": 56,
     "metadata": {},
     "output_type": "execute_result"
    }
   ],
   "source": [
    "combined_data['possession_Touches_Touches']"
   ]
  },
  {
   "cell_type": "code",
   "execution_count": null,
   "metadata": {},
   "outputs": [],
   "source": []
  },
  {
   "cell_type": "code",
   "execution_count": null,
   "metadata": {},
   "outputs": [],
   "source": []
  }
 ],
 "metadata": {
  "kernelspec": {
   "display_name": "fbref",
   "language": "python",
   "name": "python3"
  },
  "language_info": {
   "codemirror_mode": {
    "name": "ipython",
    "version": 3
   },
   "file_extension": ".py",
   "mimetype": "text/x-python",
   "name": "python",
   "nbconvert_exporter": "python",
   "pygments_lexer": "ipython3",
   "version": "3.12.0"
  }
 },
 "nbformat": 4,
 "nbformat_minor": 2
}
