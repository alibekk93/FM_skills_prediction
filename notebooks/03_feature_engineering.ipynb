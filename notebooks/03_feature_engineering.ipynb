{
 "cells": [
  {
   "cell_type": "code",
   "execution_count": 114,
   "metadata": {},
   "outputs": [],
   "source": [
    "# change wd to repo home\n",
    "import os\n",
    "if os.getcwd().split('\\\\')[-1] == 'notebooks':\n",
    "    os.chdir('..')"
   ]
  },
  {
   "cell_type": "code",
   "execution_count": 115,
   "metadata": {},
   "outputs": [],
   "source": [
    "from modules.fm_functions import *\n",
    "import seaborn as sns"
   ]
  },
  {
   "cell_type": "code",
   "execution_count": 116,
   "metadata": {},
   "outputs": [],
   "source": [
    "import pandas as pd\n",
    "combined_data_2022 = pd.read_csv('./data/2022_combined_data.csv', index_col='Name').iloc[:, 1:].dropna(axis=0)\n",
    "combined_data_2023 = pd.read_csv('./data/2023_combined_data.csv', index_col='Name').iloc[:, 1:].dropna(axis=0)"
   ]
  },
  {
   "cell_type": "code",
   "execution_count": 117,
   "metadata": {},
   "outputs": [],
   "source": [
    "def smith_waterman(s1, s2, match_score=2, gap_cost=1):\n",
    "    \"\"\"\n",
    "    Compute the Smith-Waterman score between two strings.\n",
    "    \n",
    "    :param s1: First string.\n",
    "    :param s2: Second string.\n",
    "    :param match_score: Score for character match.\n",
    "    :param gap_cost: Cost for gap (insertion/deletion).\n",
    "    :return: The Smith-Waterman score for the best local alignment.\n",
    "    \"\"\"\n",
    "    m, n = len(s1), len(s2)\n",
    "    score_matrix = [[0] * (n + 1) for _ in range(m + 1)]\n",
    "    max_score = 0\n",
    "\n",
    "    for i in range(1, m + 1):\n",
    "        for j in range(1, n + 1):\n",
    "            match = score_matrix[i - 1][j - 1] + (match_score if s1[i - 1] == s2[j - 1] else -match_score)\n",
    "            delete = score_matrix[i - 1][j] - gap_cost\n",
    "            insert = score_matrix[i][j - 1] - gap_cost\n",
    "            score_matrix[i][j] = max(0, match, delete, insert)\n",
    "            max_score = max(max_score, score_matrix[i][j])\n",
    "\n",
    "    return max_score\n",
    "\n",
    "def find_most_similar_strings(target, strings, n=5):\n",
    "    \"\"\"\n",
    "    Find the n most similar strings to the target string from a list of strings using Smith-Waterman score.\n",
    "    \n",
    "    :param target: The target string to compare against.\n",
    "    :param strings: A list of strings to search within.\n",
    "    :param n: The number of most similar strings to return. Default is 5.\n",
    "    :return: A list of the n most similar strings.\n",
    "    \"\"\"\n",
    "    # Compute the Smith-Waterman score for each string in the list\n",
    "    scores = [(string, smith_waterman(target, string)) for string in strings]\n",
    "    \n",
    "    # Find the n strings with the highest scores\n",
    "    most_similar = sorted(scores, key=lambda x: x[1], reverse=True)[:n]\n",
    "    \n",
    "    # Extract and return only the strings (not the scores)\n",
    "    return [string for string, score in most_similar]"
   ]
  },
  {
   "cell_type": "markdown",
   "metadata": {},
   "source": [
    "## PCA"
   ]
  },
  {
   "cell_type": "code",
   "execution_count": 118,
   "metadata": {},
   "outputs": [
    {
     "data": {
      "text/plain": [
       "<Axes: >"
      ]
     },
     "execution_count": 118,
     "metadata": {},
     "output_type": "execute_result"
    },
    {
     "data": {
      "image/png": "[encoded data removed]",
      "text/plain": [
       "<Figure size 640x480 with 1 Axes>"
      ]
     },
     "metadata": {},
     "output_type": "display_data"
    }
   ],
   "source": [
    "from sklearn.decomposition import PCA\n",
    "\n",
    "pca_results = {n_components:PCA(n_components=n_components).fit(combined_data_2023[all_stats_columns]).explained_variance_ratio_.sum() \\\n",
    "               for n_components in range(1,len(all_stats_columns))}\n",
    "\n",
    "sns.lineplot(pca_results)"
   ]
  },
  {
   "cell_type": "code",
   "execution_count": 173,
   "metadata": {},
   "outputs": [],
   "source": [
    "pca = PCA(n_components=5)\n",
    "pca_result = pca.fit_transform(combined_data_2023[all_stats_columns])\n",
    "pca_result = pd.DataFrame(pca_result, index=combined_data_2023.index)"
   ]
  },
  {
   "cell_type": "markdown",
   "metadata": {},
   "source": [
    "## Similarity matrix"
   ]
  },
  {
   "cell_type": "code",
   "execution_count": 174,
   "metadata": {},
   "outputs": [],
   "source": [
    "from sklearn.preprocessing import MinMaxScaler\n",
    "pca_result_scaled = MinMaxScaler().fit_transform(pca_result)\n",
    "pca_result_scaled = pd.DataFrame(pca_result_scaled, index=pca_result.index)"
   ]
  },
  {
   "cell_type": "code",
   "execution_count": 182,
   "metadata": {},
   "outputs": [],
   "source": [
    "from sklearn.metrics.pairwise import cosine_similarity, euclidean_distances\n",
    "\n",
    "# similarity_matrix = cosine_similarity(pca_result_scaled)\n",
    "similarity_matrix = euclidean_distances(pca_result_scaled)\n",
    "similarity_matrix = pd.DataFrame(similarity_matrix, index=combined_data_2023.index, columns=combined_data_2023.index)"
   ]
  },
  {
   "cell_type": "code",
   "execution_count": 183,
   "metadata": {},
   "outputs": [
    {
     "data": {
      "text/plain": [
       "['Frenkie de Jong',\n",
       " 'Koni De Winter',\n",
       " 'Charles De Ketelaere',\n",
       " 'Lorenzo De Silvestri',\n",
       " 'Grégoire Defrel',\n",
       " 'Rodrigo De Paul',\n",
       " 'Morten Frendrup',\n",
       " 'Curtis Jones',\n",
       " 'Kevin De Bruyne',\n",
       " 'Ousmane Dembélé']"
      ]
     },
     "execution_count": 183,
     "metadata": {},
     "output_type": "execute_result"
    }
   ],
   "source": [
    "find_most_similar_strings('Frenkie De Jong', combined_data_2023.index, n=10)"
   ]
  },
  {
   "cell_type": "code",
   "execution_count": 202,
   "metadata": {},
   "outputs": [
    {
     "data": {
      "text/plain": [
       "Name\n",
       "Mërgim Vojvoda         0.114618\n",
       "Johan Mojica           0.155593\n",
       "Frenkie de Jong        0.164202\n",
       "Filippo Terracciano    0.168975\n",
       "Azzedine Ounahi        0.173853\n",
       "Antonee Robinson       0.174288\n",
       "Moi Gómez              0.177198\n",
       "Ricardo Rodríguez      0.185934\n",
       "Milan Badelj           0.191371\n",
       "Kevin Kampl            0.204641\n",
       "Pep Chavarría          0.206472\n",
       "Jordan Ferri           0.207745\n",
       "Nemanja Matić          0.208409\n",
       "Matteo Ruggeri         0.211572\n",
       "Mário Rui              0.213736\n",
       "Rodrigo De Paul        0.221681\n",
       "Toma Bašić             0.222728\n",
       "Anthony Caci           0.222967\n",
       "Antonino Gallo         0.224926\n",
       "Billy Gilmour          0.226396\n",
       "Name: Liberato Cacace, dtype: float64"
      ]
     },
     "execution_count": 202,
     "metadata": {},
     "output_type": "execute_result"
    }
   ],
   "source": [
    "# similarity_matrix.loc['Frenkie de Jong'].sort_values(ascending=False)[1:21]\n",
    "similarity_matrix.loc['Liberato Cacace'].sort_values(ascending=True)[1:21]"
   ]
  },
  {
   "cell_type": "code",
   "execution_count": 201,
   "metadata": {},
   "outputs": [
    {
     "data": {
      "text/plain": [
       "<Axes: >"
      ]
     },
     "execution_count": 201,
     "metadata": {},
     "output_type": "execute_result"
    },
    {
     "data": {
      "image/png": "[encoded data removed]",
      "text/plain": [
       "<Figure size 700x500 with 1 Axes>"
      ]
     },
     "metadata": {},
     "output_type": "display_data"
    }
   ],
   "source": [
    "fig, ax = plt.subplots(figsize=(7,5))\n",
    "ax.set_ylim(0,1)\n",
    "sns.lineplot(data=pca_result_scaled.loc[['Frenkie de Jong', 'Oleksandr Zinchenko', 'Liberato Cacace']].T, ax=ax)\n"
   ]
  },
  {
   "cell_type": "code",
   "execution_count": null,
   "metadata": {},
   "outputs": [
    {
     "data": {
      "text/html": [
       "<div>\n",
       "<style scoped>\n",
       "    .dataframe tbody tr th:only-of-type {\n",
       "        vertical-align: middle;\n",
       "    }\n",
       "\n",
       "    .dataframe tbody tr th {\n",
       "        vertical-align: top;\n",
       "    }\n",
       "\n",
       "    .dataframe thead th {\n",
       "        text-align: right;\n",
       "    }\n",
       "</style>\n",
       "<table border=\"1\" class=\"dataframe\">\n",
       "  <thead>\n",
       "    <tr style=\"text-align: right;\">\n",
       "      <th></th>\n",
       "      <th>0</th>\n",
       "      <th>1</th>\n",
       "      <th>2</th>\n",
       "      <th>3</th>\n",
       "      <th>4</th>\n",
       "      <th>5</th>\n",
       "      <th>6</th>\n",
       "      <th>7</th>\n",
       "      <th>8</th>\n",
       "      <th>9</th>\n",
       "    </tr>\n",
       "    <tr>\n",
       "      <th>Name</th>\n",
       "      <th></th>\n",
       "      <th></th>\n",
       "      <th></th>\n",
       "      <th></th>\n",
       "      <th></th>\n",
       "      <th></th>\n",
       "      <th></th>\n",
       "      <th></th>\n",
       "      <th></th>\n",
       "      <th></th>\n",
       "    </tr>\n",
       "  </thead>\n",
       "  <tbody>\n",
       "    <tr>\n",
       "      <th>Sven Michel</th>\n",
       "      <td>1.596727</td>\n",
       "      <td>-0.108181</td>\n",
       "      <td>0.390198</td>\n",
       "      <td>0.142244</td>\n",
       "      <td>-0.412199</td>\n",
       "      <td>0.202568</td>\n",
       "      <td>0.352344</td>\n",
       "      <td>0.793794</td>\n",
       "      <td>0.279122</td>\n",
       "      <td>-0.725673</td>\n",
       "    </tr>\n",
       "    <tr>\n",
       "      <th>Lucas Ocampos</th>\n",
       "      <td>0.833378</td>\n",
       "      <td>0.650925</td>\n",
       "      <td>0.100488</td>\n",
       "      <td>-0.648745</td>\n",
       "      <td>0.680737</td>\n",
       "      <td>-0.289748</td>\n",
       "      <td>-0.084408</td>\n",
       "      <td>0.264597</td>\n",
       "      <td>-0.543274</td>\n",
       "      <td>-0.691679</td>\n",
       "    </tr>\n",
       "    <tr>\n",
       "      <th>Pavel Kadeřábek</th>\n",
       "      <td>0.168263</td>\n",
       "      <td>-0.224505</td>\n",
       "      <td>-0.172015</td>\n",
       "      <td>0.606167</td>\n",
       "      <td>0.290949</td>\n",
       "      <td>-0.313719</td>\n",
       "      <td>0.579426</td>\n",
       "      <td>0.088455</td>\n",
       "      <td>0.155548</td>\n",
       "      <td>-0.676844</td>\n",
       "    </tr>\n",
       "    <tr>\n",
       "      <th>Charles De Ketelaere</th>\n",
       "      <td>1.462730</td>\n",
       "      <td>0.674394</td>\n",
       "      <td>0.156669</td>\n",
       "      <td>-0.806421</td>\n",
       "      <td>0.481142</td>\n",
       "      <td>0.128098</td>\n",
       "      <td>-0.182010</td>\n",
       "      <td>0.280347</td>\n",
       "      <td>-0.287320</td>\n",
       "      <td>-0.666976</td>\n",
       "    </tr>\n",
       "    <tr>\n",
       "      <th>Matteo Ruggeri</th>\n",
       "      <td>-0.592365</td>\n",
       "      <td>0.251066</td>\n",
       "      <td>-0.498616</td>\n",
       "      <td>0.184101</td>\n",
       "      <td>0.110193</td>\n",
       "      <td>-0.130393</td>\n",
       "      <td>0.214962</td>\n",
       "      <td>0.238411</td>\n",
       "      <td>0.102820</td>\n",
       "      <td>-0.645761</td>\n",
       "    </tr>\n",
       "    <tr>\n",
       "      <th>...</th>\n",
       "      <td>...</td>\n",
       "      <td>...</td>\n",
       "      <td>...</td>\n",
       "      <td>...</td>\n",
       "      <td>...</td>\n",
       "      <td>...</td>\n",
       "      <td>...</td>\n",
       "      <td>...</td>\n",
       "      <td>...</td>\n",
       "      <td>...</td>\n",
       "    </tr>\n",
       "    <tr>\n",
       "      <th>Julián Álvarez</th>\n",
       "      <td>0.760758</td>\n",
       "      <td>-0.501523</td>\n",
       "      <td>-0.290919</td>\n",
       "      <td>0.685358</td>\n",
       "      <td>0.428161</td>\n",
       "      <td>-0.151061</td>\n",
       "      <td>0.054159</td>\n",
       "      <td>-0.122690</td>\n",
       "      <td>0.190397</td>\n",
       "      <td>0.637419</td>\n",
       "    </tr>\n",
       "    <tr>\n",
       "      <th>Patric Pfeiffer</th>\n",
       "      <td>-0.854909</td>\n",
       "      <td>-0.476240</td>\n",
       "      <td>0.384955</td>\n",
       "      <td>-0.041637</td>\n",
       "      <td>-0.350015</td>\n",
       "      <td>0.469473</td>\n",
       "      <td>0.581119</td>\n",
       "      <td>0.153693</td>\n",
       "      <td>0.114927</td>\n",
       "      <td>0.693641</td>\n",
       "    </tr>\n",
       "    <tr>\n",
       "      <th>Arsen Zakharyan</th>\n",
       "      <td>0.900965</td>\n",
       "      <td>0.372534</td>\n",
       "      <td>-0.284651</td>\n",
       "      <td>0.408510</td>\n",
       "      <td>0.008185</td>\n",
       "      <td>0.204457</td>\n",
       "      <td>0.180074</td>\n",
       "      <td>-0.145473</td>\n",
       "      <td>-0.039448</td>\n",
       "      <td>0.844485</td>\n",
       "    </tr>\n",
       "    <tr>\n",
       "      <th>Morgan Sanson</th>\n",
       "      <td>0.680734</td>\n",
       "      <td>0.372983</td>\n",
       "      <td>-0.029107</td>\n",
       "      <td>0.606291</td>\n",
       "      <td>0.411434</td>\n",
       "      <td>-0.251031</td>\n",
       "      <td>0.313769</td>\n",
       "      <td>0.105828</td>\n",
       "      <td>-0.164439</td>\n",
       "      <td>0.844997</td>\n",
       "    </tr>\n",
       "    <tr>\n",
       "      <th>Raphinha</th>\n",
       "      <td>1.402765</td>\n",
       "      <td>0.440659</td>\n",
       "      <td>-0.396187</td>\n",
       "      <td>0.329786</td>\n",
       "      <td>0.029501</td>\n",
       "      <td>-0.023707</td>\n",
       "      <td>0.395495</td>\n",
       "      <td>0.239315</td>\n",
       "      <td>-0.646815</td>\n",
       "      <td>0.876561</td>\n",
       "    </tr>\n",
       "  </tbody>\n",
       "</table>\n",
       "<p>1338 rows × 10 columns</p>\n",
       "</div>"
      ],
      "text/plain": [
       "                             0         1         2         3         4  \\\n",
       "Name                                                                     \n",
       "Sven Michel           1.596727 -0.108181  0.390198  0.142244 -0.412199   \n",
       "Lucas Ocampos         0.833378  0.650925  0.100488 -0.648745  0.680737   \n",
       "Pavel Kadeřábek       0.168263 -0.224505 -0.172015  0.606167  0.290949   \n",
       "Charles De Ketelaere  1.462730  0.674394  0.156669 -0.806421  0.481142   \n",
       "Matteo Ruggeri       -0.592365  0.251066 -0.498616  0.184101  0.110193   \n",
       "...                        ...       ...       ...       ...       ...   \n",
       "Julián Álvarez        0.760758 -0.501523 -0.290919  0.685358  0.428161   \n",
       "Patric Pfeiffer      -0.854909 -0.476240  0.384955 -0.041637 -0.350015   \n",
       "Arsen Zakharyan       0.900965  0.372534 -0.284651  0.408510  0.008185   \n",
       "Morgan Sanson         0.680734  0.372983 -0.029107  0.606291  0.411434   \n",
       "Raphinha              1.402765  0.440659 -0.396187  0.329786  0.029501   \n",
       "\n",
       "                             5         6         7         8         9  \n",
       "Name                                                                    \n",
       "Sven Michel           0.202568  0.352344  0.793794  0.279122 -0.725673  \n",
       "Lucas Ocampos        -0.289748 -0.084408  0.264597 -0.543274 -0.691679  \n",
       "Pavel Kadeřábek      -0.313719  0.579426  0.088455  0.155548 -0.676844  \n",
       "Charles De Ketelaere  0.128098 -0.182010  0.280347 -0.287320 -0.666976  \n",
       "Matteo Ruggeri       -0.130393  0.214962  0.238411  0.102820 -0.645761  \n",
       "...                        ...       ...       ...       ...       ...  \n",
       "Julián Álvarez       -0.151061  0.054159 -0.122690  0.190397  0.637419  \n",
       "Patric Pfeiffer       0.469473  0.581119  0.153693  0.114927  0.693641  \n",
       "Arsen Zakharyan       0.204457  0.180074 -0.145473 -0.039448  0.844485  \n",
       "Morgan Sanson        -0.251031  0.313769  0.105828 -0.164439  0.844997  \n",
       "Raphinha             -0.023707  0.395495  0.239315 -0.646815  0.876561  \n",
       "\n",
       "[1338 rows x 10 columns]"
      ]
     },
     "execution_count": 105,
     "metadata": {},
     "output_type": "execute_result"
    }
   ],
   "source": [
    "pca_result.sort_values(9)"
   ]
  },
  {
   "cell_type": "code",
   "execution_count": null,
   "metadata": {},
   "outputs": [],
   "source": []
  }
 ],
 "metadata": {
  "kernelspec": {
   "display_name": "fbref",
   "language": "python",
   "name": "python3"
  },
  "language_info": {
   "codemirror_mode": {
    "name": "ipython",
    "version": 3
   },
   "file_extension": ".py",
   "mimetype": "text/x-python",
   "name": "python",
   "nbconvert_exporter": "python",
   "pygments_lexer": "ipython3",
   "version": "3.12.0"
  }
 },
 "nbformat": 4,
 "nbformat_minor": 2
}
