{
 "cells": [
  {
   "cell_type": "markdown",
   "metadata": {},
   "source": [
    "# 01. Data Combination\n",
    "Combine data from all sources into one **huge** dataframe"
   ]
  },
  {
   "cell_type": "code",
   "execution_count": 4,
   "metadata": {},
   "outputs": [],
   "source": [
    "# change wd to repo home\n",
    "import os\n",
    "if os.getcwd().split('\\\\')[-1] != 'FM skills prediction':\n",
    "    os.chdir('..')"
   ]
  },
  {
   "cell_type": "code",
   "execution_count": 6,
   "metadata": {},
   "outputs": [],
   "source": [
    "import pandas as pd"
   ]
  },
  {
   "cell_type": "code",
   "execution_count": 11,
   "metadata": {},
   "outputs": [],
   "source": [
    "# load FBRef data in separate dfs\n",
    "fbref_dfs = {filename : pd.read_csv(f'data/FBRef_split/{filename}', index_col=0)\n",
    "             for filename in os.listdir('data/FBRef_split')}"
   ]
  },
  {
   "cell_type": "code",
   "execution_count": 12,
   "metadata": {},
   "outputs": [],
   "source": [
    "# combine FBRef dfs by type first\n",
    "table_types = ['defense', 'gca', 'keepersadv', 'keepers', 'misc', 'passingtypes',\n",
    "               'passing', 'playingtime', 'possession', 'shooting', 'stats']\n",
    "\n",
    "fbref_dfs_types = {}\n",
    "\n",
    "for t in table_types:\n",
    "    fbref_dfs_types[t] = {}\n",
    "    for k in fbref_dfs.keys():\n",
    "        if k.split('_')[1] == t:\n",
    "            fbref_dfs_types[t][k.split('_')[0]] = fbref_dfs[k]\n",
    "    fbref_dfs_types[t] = pd.concat(fbref_dfs_types[t], axis=0, ignore_index=True).set_index(['_Player', '_Squad', '_Born'])"
   ]
  },
  {
   "cell_type": "code",
   "execution_count": 13,
   "metadata": {},
   "outputs": [],
   "source": [
    "# combine FBRef dfs into one\n",
    "fbref_combined_df = pd.concat(fbref_dfs_types, axis=1).reset_index()\n",
    "fbref_combined_df.columns = fbref_combined_df.columns.map(lambda x: '_'.join(map(str, x)))"
   ]
  },
  {
   "cell_type": "code",
   "execution_count": 14,
   "metadata": {},
   "outputs": [],
   "source": [
    "# store a complete FBRef file\n",
    "fbref_combined_df.to_csv('data/FBRef_combined.csv')"
   ]
  },
  {
   "cell_type": "markdown",
   "metadata": {},
   "source": [
    "This dataframe still contains multiple duplicates and a crazy number of columns. Duplicates are there becuse some players played for more than one team in a season. Columns are so numerous because I've been lazy and did not bother cleaning them"
   ]
  },
  {
   "cell_type": "markdown",
   "metadata": {},
   "source": [
    "To deal with player duplicates, we will first remove players with fewer than 900 minutes (less that 10 '90s')"
   ]
  },
  {
   "cell_type": "code",
   "execution_count": 28,
   "metadata": {},
   "outputs": [
    {
     "name": "stderr",
     "output_type": "stream",
     "text": [
      "C:\\Users\\alibe\\AppData\\Local\\Temp\\ipykernel_41292\\1161894005.py:2: SettingWithCopyWarning: \n",
      "A value is trying to be set on a copy of a slice from a DataFrame\n",
      "\n",
      "See the caveats in the documentation: https://pandas.pydata.org/pandas-docs/stable/user_guide/indexing.html#returning-a-view-versus-a-copy\n",
      "  fbref_combined_filtered_df.drop_duplicates(['_Player_'], inplace=True)\n"
     ]
    }
   ],
   "source": [
    "fbref_combined_filtered_df = fbref_combined_df[fbref_combined_df['misc__90s']>=10]\n",
    "fbref_combined_filtered_df.drop_duplicates(['_Player_'], inplace=True)"
   ]
  },
  {
   "cell_type": "code",
   "execution_count": 29,
   "metadata": {},
   "outputs": [],
   "source": [
    "# load FM data\n",
    "fm_fd = pd.read_csv('data/FM 2023.csv')"
   ]
  },
  {
   "cell_type": "markdown",
   "metadata": {},
   "source": [
    "We will then combine using an 'inner' join, so only a single lecord per player is kept. If a player played more than 10 90s for more than one team, only one of the records would be kept, but this will do for now"
   ]
  },
  {
   "cell_type": "code",
   "execution_count": 32,
   "metadata": {},
   "outputs": [],
   "source": [
    "combined_data = fbref_combined_filtered_df.merge(right=fm_fd, left_on='_Player_', right_on='Name', how='inner')"
   ]
  },
  {
   "cell_type": "code",
   "execution_count": 33,
   "metadata": {},
   "outputs": [
    {
     "data": {
      "text/plain": [
       "(1380, 384)"
      ]
     },
     "execution_count": 33,
     "metadata": {},
     "output_type": "execute_result"
    }
   ],
   "source": [
    "combined_data.shape"
   ]
  },
  {
   "cell_type": "code",
   "execution_count": 34,
   "metadata": {},
   "outputs": [
    {
     "data": {
      "text/html": [
       "<div>\n",
       "<style scoped>\n",
       "    .dataframe tbody tr th:only-of-type {\n",
       "        vertical-align: middle;\n",
       "    }\n",
       "\n",
       "    .dataframe tbody tr th {\n",
       "        vertical-align: top;\n",
       "    }\n",
       "\n",
       "    .dataframe thead th {\n",
       "        text-align: right;\n",
       "    }\n",
       "</style>\n",
       "<table border=\"1\" class=\"dataframe\">\n",
       "  <thead>\n",
       "    <tr style=\"text-align: right;\">\n",
       "      <th></th>\n",
       "      <th>_Player_</th>\n",
       "      <th>_Squad_</th>\n",
       "      <th>_Born_</th>\n",
       "      <th>defense__Rk</th>\n",
       "      <th>defense__Nation</th>\n",
       "      <th>defense__Pos</th>\n",
       "      <th>defense__Age</th>\n",
       "      <th>defense__90s</th>\n",
       "      <th>defense_Tackles_Tkl</th>\n",
       "      <th>defense_Tackles_TklW</th>\n",
       "      <th>...</th>\n",
       "      <th>World reputation</th>\n",
       "      <th>Race</th>\n",
       "      <th>RCA</th>\n",
       "      <th>Colour of skin</th>\n",
       "      <th>Date of birth</th>\n",
       "      <th>Number of national team appearances</th>\n",
       "      <th>Goals scored for the national team</th>\n",
       "      <th>Salary</th>\n",
       "      <th>Rental club</th>\n",
       "      <th>UID</th>\n",
       "    </tr>\n",
       "  </thead>\n",
       "  <tbody>\n",
       "    <tr>\n",
       "      <th>0</th>\n",
       "      <td>Karim Adeyemi</td>\n",
       "      <td>Dortmund</td>\n",
       "      <td>2002</td>\n",
       "      <td>3.0</td>\n",
       "      <td>de GER</td>\n",
       "      <td>FWMF</td>\n",
       "      <td>20.0</td>\n",
       "      <td>15.4</td>\n",
       "      <td>16.0</td>\n",
       "      <td>11.0</td>\n",
       "      <td>...</td>\n",
       "      <td>5750</td>\n",
       "      <td>African_Caribbean</td>\n",
       "      <td>125</td>\n",
       "      <td>12</td>\n",
       "      <td>2002/1/18</td>\n",
       "      <td>4</td>\n",
       "      <td>1</td>\n",
       "      <td>115067.0</td>\n",
       "      <td>NaN</td>\n",
       "      <td>16279486</td>\n",
       "    </tr>\n",
       "    <tr>\n",
       "      <th>1</th>\n",
       "      <td>Amine Adli</td>\n",
       "      <td>Leverkusen</td>\n",
       "      <td>2000</td>\n",
       "      <td>4.0</td>\n",
       "      <td>ma MAR</td>\n",
       "      <td>FWMF</td>\n",
       "      <td>22.0</td>\n",
       "      <td>15.9</td>\n",
       "      <td>18.0</td>\n",
       "      <td>10.0</td>\n",
       "      <td>...</td>\n",
       "      <td>4250</td>\n",
       "      <td>African_Caribbean</td>\n",
       "      <td>120</td>\n",
       "      <td>13</td>\n",
       "      <td>2000/5/10</td>\n",
       "      <td>0</td>\n",
       "      <td>0</td>\n",
       "      <td>23014.0</td>\n",
       "      <td>NaN</td>\n",
       "      <td>49037698</td>\n",
       "    </tr>\n",
       "    <tr>\n",
       "      <th>2</th>\n",
       "      <td>Naouirou Ahamada</td>\n",
       "      <td>Stuttgart</td>\n",
       "      <td>2002</td>\n",
       "      <td>6.0</td>\n",
       "      <td>fr FRA</td>\n",
       "      <td>MF</td>\n",
       "      <td>20.0</td>\n",
       "      <td>15.5</td>\n",
       "      <td>17.0</td>\n",
       "      <td>11.0</td>\n",
       "      <td>...</td>\n",
       "      <td>4096</td>\n",
       "      <td>African_Caribbean</td>\n",
       "      <td>112</td>\n",
       "      <td>16</td>\n",
       "      <td>2002/3/29</td>\n",
       "      <td>0</td>\n",
       "      <td>0</td>\n",
       "      <td>14383.0</td>\n",
       "      <td>NaN</td>\n",
       "      <td>49048373</td>\n",
       "    </tr>\n",
       "    <tr>\n",
       "      <th>3</th>\n",
       "      <td>Ludovic Ajorque</td>\n",
       "      <td>Mainz 05</td>\n",
       "      <td>1994</td>\n",
       "      <td>7.0</td>\n",
       "      <td>fr FRA</td>\n",
       "      <td>FWMF</td>\n",
       "      <td>28.0</td>\n",
       "      <td>13.5</td>\n",
       "      <td>6.0</td>\n",
       "      <td>5.0</td>\n",
       "      <td>...</td>\n",
       "      <td>4015</td>\n",
       "      <td>Mixed_Race</td>\n",
       "      <td>134</td>\n",
       "      <td>8</td>\n",
       "      <td>1994/2/25</td>\n",
       "      <td>0</td>\n",
       "      <td>0</td>\n",
       "      <td>22559.0</td>\n",
       "      <td>NaN</td>\n",
       "      <td>85103818</td>\n",
       "    </tr>\n",
       "    <tr>\n",
       "      <th>4</th>\n",
       "      <td>Kevin Akpoguma</td>\n",
       "      <td>Hoffenheim</td>\n",
       "      <td>1995</td>\n",
       "      <td>8.0</td>\n",
       "      <td>ng NGA</td>\n",
       "      <td>DF</td>\n",
       "      <td>27.0</td>\n",
       "      <td>21.7</td>\n",
       "      <td>75.0</td>\n",
       "      <td>44.0</td>\n",
       "      <td>...</td>\n",
       "      <td>4747</td>\n",
       "      <td>Mixed_Race</td>\n",
       "      <td>133</td>\n",
       "      <td>11</td>\n",
       "      <td>1995/4/19</td>\n",
       "      <td>4</td>\n",
       "      <td>0</td>\n",
       "      <td>19164.0</td>\n",
       "      <td>NaN</td>\n",
       "      <td>91109389</td>\n",
       "    </tr>\n",
       "  </tbody>\n",
       "</table>\n",
       "<p>5 rows × 384 columns</p>\n",
       "</div>"
      ],
      "text/plain": [
       "           _Player_     _Squad_  _Born_  defense__Rk defense__Nation  \\\n",
       "0     Karim Adeyemi    Dortmund    2002          3.0          de GER   \n",
       "1        Amine Adli  Leverkusen    2000          4.0          ma MAR   \n",
       "2  Naouirou Ahamada   Stuttgart    2002          6.0          fr FRA   \n",
       "3   Ludovic Ajorque    Mainz 05    1994          7.0          fr FRA   \n",
       "4    Kevin Akpoguma  Hoffenheim    1995          8.0          ng NGA   \n",
       "\n",
       "  defense__Pos  defense__Age  defense__90s  defense_Tackles_Tkl  \\\n",
       "0         FWMF          20.0          15.4                 16.0   \n",
       "1         FWMF          22.0          15.9                 18.0   \n",
       "2           MF          20.0          15.5                 17.0   \n",
       "3         FWMF          28.0          13.5                  6.0   \n",
       "4           DF          27.0          21.7                 75.0   \n",
       "\n",
       "   defense_Tackles_TklW  ...  World reputation               Race  RCA  \\\n",
       "0                  11.0  ...              5750  African_Caribbean  125   \n",
       "1                  10.0  ...              4250  African_Caribbean  120   \n",
       "2                  11.0  ...              4096  African_Caribbean  112   \n",
       "3                   5.0  ...              4015         Mixed_Race  134   \n",
       "4                  44.0  ...              4747         Mixed_Race  133   \n",
       "\n",
       "   Colour of skin  Date of birth  Number of national team appearances  \\\n",
       "0              12      2002/1/18                                    4   \n",
       "1              13      2000/5/10                                    0   \n",
       "2              16      2002/3/29                                    0   \n",
       "3               8      1994/2/25                                    0   \n",
       "4              11      1995/4/19                                    4   \n",
       "\n",
       "   Goals scored for the national team    Salary  Rental club       UID  \n",
       "0                                   1  115067.0          NaN  16279486  \n",
       "1                                   0   23014.0          NaN  49037698  \n",
       "2                                   0   14383.0          NaN  49048373  \n",
       "3                                   0   22559.0          NaN  85103818  \n",
       "4                                   0   19164.0          NaN  91109389  \n",
       "\n",
       "[5 rows x 384 columns]"
      ]
     },
     "execution_count": 34,
     "metadata": {},
     "output_type": "execute_result"
    }
   ],
   "source": [
    "combined_data.head()"
   ]
  },
  {
   "cell_type": "code",
   "execution_count": 35,
   "metadata": {},
   "outputs": [],
   "source": [
    "combined_data.to_csv('data/FB_FBRef_combined.csv')"
   ]
  },
  {
   "cell_type": "code",
   "execution_count": null,
   "metadata": {},
   "outputs": [],
   "source": []
  }
 ],
 "metadata": {
  "kernelspec": {
   "display_name": "fbref",
   "language": "python",
   "name": "python3"
  },
  "language_info": {
   "codemirror_mode": {
    "name": "ipython",
    "version": 3
   },
   "file_extension": ".py",
   "mimetype": "text/x-python",
   "name": "python",
   "nbconvert_exporter": "python",
   "pygments_lexer": "ipython3",
   "version": "3.12.0"
  }
 },
 "nbformat": 4,
 "nbformat_minor": 2
}
