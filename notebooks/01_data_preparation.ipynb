{
 "cells": [
  {
   "cell_type": "markdown",
   "metadata": {},
   "source": [
    "# 01. Data Preparation\n",
    "\n",
    "1. Merge separate files for each league and statistic type\n",
    "2. Calculate percentage above/below team average for each player statistic\n",
    "3. Aggregate original pre-transformation data per team for team-level statistics\n",
    "4. Apply Principal Component Analysis (PCA) to reduce the dimensionality of player statistics separately for each statistic group\n",
    "5. Apply PCA to reduce the dimensionality of team statistics\n",
    "6. Create tags to combine FBRef statistics with Football Manager and FC24 ratings"
   ]
  },
  {
   "cell_type": "code",
   "execution_count": 2,
   "metadata": {},
   "outputs": [],
   "source": [
    "# change wd to repo home\n",
    "import os\n",
    "if os.getcwd().split('\\\\')[-1] == 'notebooks':\n",
    "    os.chdir('..')"
   ]
  },
  {
   "cell_type": "code",
   "execution_count": 3,
   "metadata": {},
   "outputs": [],
   "source": [
    "from modules.fm_functions import *\n",
    "import warnings\n",
    "warnings.filterwarnings(action='ignore')"
   ]
  },
  {
   "cell_type": "code",
   "execution_count": 4,
   "metadata": {},
   "outputs": [],
   "source": [
    "tqdm.pandas()"
   ]
  },
  {
   "cell_type": "markdown",
   "metadata": {},
   "source": [
    "## 01. Merge separate files for each league and statistic type"
   ]
  },
  {
   "cell_type": "code",
   "execution_count": 5,
   "metadata": {},
   "outputs": [],
   "source": [
    "season = '2022'\n",
    "\n",
    "# load FBRef data in separate dfs\n",
    "fbref_dfs = {filename : pd.read_csv(f'data/FBRef_split/{filename}', index_col=0)\n",
    "             for filename in os.listdir('data/FBRef_split')\n",
    "             if filename.split('_')[-1][:4] == season}"
   ]
  },
  {
   "cell_type": "code",
   "execution_count": 6,
   "metadata": {},
   "outputs": [],
   "source": [
    "# combine FBRef dfs by type first\n",
    "table_types = ['defense', 'gca', 'keepersadv', 'keepers', 'misc', 'passingtypes',\n",
    "               'passing', 'playingtime', 'possession', 'shooting', 'stats']\n",
    "\n",
    "fbref_dfs_types = {}\n",
    "\n",
    "for t in table_types:\n",
    "    fbref_dfs_types[t] = {}\n",
    "    for k in fbref_dfs.keys():\n",
    "        if k.split('_')[1] == t:\n",
    "            fbref_dfs_types[t][k.split('_')[0]] = fbref_dfs[k]\n",
    "    try:\n",
    "        fbref_dfs_types[t] = pd.concat(fbref_dfs_types[t], axis=0, ignore_index=True).set_index(['_Player', '_Squad', '_Born'])\n",
    "    except:\n",
    "        print(t)"
   ]
  },
  {
   "cell_type": "code",
   "execution_count": 7,
   "metadata": {},
   "outputs": [],
   "source": [
    "# combine FBRef dfs into one\n",
    "fbref_combined_df = pd.concat(fbref_dfs_types, axis=1).reset_index()\n",
    "fbref_combined_df.columns = fbref_combined_df.columns.map(lambda x: '_'.join(map(str, x)))"
   ]
  },
  {
   "cell_type": "code",
   "execution_count": 8,
   "metadata": {},
   "outputs": [],
   "source": [
    "# drop keepers\n",
    "fbref_combined_df = fbref_combined_df[fbref_combined_df['stats__Pos']!='GK']\n",
    "# drop unknown YOB\n",
    "fbref_combined_df = fbref_combined_df.dropna(subset=['_Born_'])\n",
    "fbref_combined_df['yob'] = fbref_combined_df['_Born_'].astype('int')\n",
    "# drop players with less than 500 minutes\n",
    "fbref_combined_df = fbref_combined_df[fbref_combined_df['playingtime_PlayingTime_Min'] >= 500]"
   ]
  },
  {
   "cell_type": "markdown",
   "metadata": {},
   "source": [
    "## 02. Calculate percentage above/below team average for each player statistic"
   ]
  },
  {
   "cell_type": "code",
   "execution_count": 9,
   "metadata": {},
   "outputs": [],
   "source": [
    "def percent_above_below(group):\n",
    "    return (group - group.mean()) / group.mean()"
   ]
  },
  {
   "cell_type": "code",
   "execution_count": 10,
   "metadata": {},
   "outputs": [],
   "source": [
    "fbref_meandiff_df = fbref_combined_df.copy()\n",
    "\n",
    "for column_group in [defense_columns, touches_columns, passing_columns,\n",
    "                     progres_columns, attack_columns, misc_columns]:\n",
    "        fbref_meandiff_df[column_group] = fbref_meandiff_df.groupby('_Squad_')[column_group].transform(percent_above_below)"
   ]
  },
  {
   "cell_type": "code",
   "execution_count": 11,
   "metadata": {},
   "outputs": [
    {
     "data": {
      "text/html": [
       "<div>\n",
       "<style scoped>\n",
       "    .dataframe tbody tr th:only-of-type {\n",
       "        vertical-align: middle;\n",
       "    }\n",
       "\n",
       "    .dataframe tbody tr th {\n",
       "        vertical-align: top;\n",
       "    }\n",
       "\n",
       "    .dataframe thead th {\n",
       "        text-align: right;\n",
       "    }\n",
       "</style>\n",
       "<table border=\"1\" class=\"dataframe\">\n",
       "  <thead>\n",
       "    <tr style=\"text-align: right;\">\n",
       "      <th></th>\n",
       "      <th>_Player_</th>\n",
       "      <th>_Squad_</th>\n",
       "      <th>_Born_</th>\n",
       "      <th>defense__Rk</th>\n",
       "      <th>defense__Nation</th>\n",
       "      <th>defense__Pos</th>\n",
       "      <th>defense__Age</th>\n",
       "      <th>defense__90s</th>\n",
       "      <th>defense_Tackles_Tkl</th>\n",
       "      <th>defense_Tackles_TklW</th>\n",
       "      <th>...</th>\n",
       "      <th>stats_Per90Minutes_G+A</th>\n",
       "      <th>stats_Per90Minutes_G-PK</th>\n",
       "      <th>stats_Per90Minutes_G+A-PK</th>\n",
       "      <th>stats_Per90Minutes_xG</th>\n",
       "      <th>stats_Per90Minutes_xAG</th>\n",
       "      <th>stats_Per90Minutes_xG+xAG</th>\n",
       "      <th>stats_Per90Minutes_npxG</th>\n",
       "      <th>stats_Per90Minutes_npxG+xAG</th>\n",
       "      <th>stats_Matches</th>\n",
       "      <th>yob</th>\n",
       "    </tr>\n",
       "  </thead>\n",
       "  <tbody>\n",
       "    <tr>\n",
       "      <th>1</th>\n",
       "      <td>Sargis Adamyan</td>\n",
       "      <td>Köln</td>\n",
       "      <td>1993</td>\n",
       "      <td>2.0</td>\n",
       "      <td>am ARM</td>\n",
       "      <td>FWMF</td>\n",
       "      <td>29.0</td>\n",
       "      <td>7.2</td>\n",
       "      <td>-0.573604</td>\n",
       "      <td>-0.646067</td>\n",
       "      <td>...</td>\n",
       "      <td>0.42</td>\n",
       "      <td>0.14</td>\n",
       "      <td>0.42</td>\n",
       "      <td>0.47</td>\n",
       "      <td>0.11</td>\n",
       "      <td>0.58</td>\n",
       "      <td>0.47</td>\n",
       "      <td>0.58</td>\n",
       "      <td>Matches</td>\n",
       "      <td>1993</td>\n",
       "    </tr>\n",
       "    <tr>\n",
       "      <th>2</th>\n",
       "      <td>Karim Adeyemi</td>\n",
       "      <td>Dortmund</td>\n",
       "      <td>2002</td>\n",
       "      <td>3.0</td>\n",
       "      <td>de GER</td>\n",
       "      <td>FWMF</td>\n",
       "      <td>20.0</td>\n",
       "      <td>15.4</td>\n",
       "      <td>-0.443223</td>\n",
       "      <td>-0.334395</td>\n",
       "      <td>...</td>\n",
       "      <td>0.71</td>\n",
       "      <td>0.39</td>\n",
       "      <td>0.71</td>\n",
       "      <td>0.33</td>\n",
       "      <td>0.24</td>\n",
       "      <td>0.57</td>\n",
       "      <td>0.28</td>\n",
       "      <td>0.52</td>\n",
       "      <td>Matches</td>\n",
       "      <td>2002</td>\n",
       "    </tr>\n",
       "    <tr>\n",
       "      <th>3</th>\n",
       "      <td>Amine Adli</td>\n",
       "      <td>Leverkusen</td>\n",
       "      <td>2000</td>\n",
       "      <td>4.0</td>\n",
       "      <td>ma MAR</td>\n",
       "      <td>FWMF</td>\n",
       "      <td>22.0</td>\n",
       "      <td>15.9</td>\n",
       "      <td>-0.331878</td>\n",
       "      <td>-0.348659</td>\n",
       "      <td>...</td>\n",
       "      <td>0.50</td>\n",
       "      <td>0.31</td>\n",
       "      <td>0.50</td>\n",
       "      <td>0.31</td>\n",
       "      <td>0.11</td>\n",
       "      <td>0.42</td>\n",
       "      <td>0.31</td>\n",
       "      <td>0.42</td>\n",
       "      <td>Matches</td>\n",
       "      <td>2000</td>\n",
       "    </tr>\n",
       "    <tr>\n",
       "      <th>5</th>\n",
       "      <td>Naouirou Ahamada</td>\n",
       "      <td>Stuttgart</td>\n",
       "      <td>2002</td>\n",
       "      <td>6.0</td>\n",
       "      <td>fr FRA</td>\n",
       "      <td>MF</td>\n",
       "      <td>20.0</td>\n",
       "      <td>15.5</td>\n",
       "      <td>-0.404814</td>\n",
       "      <td>-0.338346</td>\n",
       "      <td>...</td>\n",
       "      <td>0.26</td>\n",
       "      <td>0.13</td>\n",
       "      <td>0.26</td>\n",
       "      <td>0.05</td>\n",
       "      <td>0.08</td>\n",
       "      <td>0.13</td>\n",
       "      <td>0.05</td>\n",
       "      <td>0.13</td>\n",
       "      <td>Matches</td>\n",
       "      <td>2002</td>\n",
       "    </tr>\n",
       "    <tr>\n",
       "      <th>6</th>\n",
       "      <td>Ludovic Ajorque</td>\n",
       "      <td>Mainz 05</td>\n",
       "      <td>1994</td>\n",
       "      <td>7.0</td>\n",
       "      <td>fr FRA</td>\n",
       "      <td>FWMF</td>\n",
       "      <td>28.0</td>\n",
       "      <td>13.5</td>\n",
       "      <td>-0.788104</td>\n",
       "      <td>-0.716418</td>\n",
       "      <td>...</td>\n",
       "      <td>0.52</td>\n",
       "      <td>0.45</td>\n",
       "      <td>0.52</td>\n",
       "      <td>0.34</td>\n",
       "      <td>0.13</td>\n",
       "      <td>0.47</td>\n",
       "      <td>0.34</td>\n",
       "      <td>0.47</td>\n",
       "      <td>Matches</td>\n",
       "      <td>1994</td>\n",
       "    </tr>\n",
       "  </tbody>\n",
       "</table>\n",
       "<p>5 rows × 287 columns</p>\n",
       "</div>"
      ],
      "text/plain": [
       "           _Player_     _Squad_  _Born_  defense__Rk defense__Nation  \\\n",
       "1    Sargis Adamyan        Köln    1993          2.0          am ARM   \n",
       "2     Karim Adeyemi    Dortmund    2002          3.0          de GER   \n",
       "3        Amine Adli  Leverkusen    2000          4.0          ma MAR   \n",
       "5  Naouirou Ahamada   Stuttgart    2002          6.0          fr FRA   \n",
       "6   Ludovic Ajorque    Mainz 05    1994          7.0          fr FRA   \n",
       "\n",
       "  defense__Pos  defense__Age  defense__90s  defense_Tackles_Tkl  \\\n",
       "1         FWMF          29.0           7.2            -0.573604   \n",
       "2         FWMF          20.0          15.4            -0.443223   \n",
       "3         FWMF          22.0          15.9            -0.331878   \n",
       "5           MF          20.0          15.5            -0.404814   \n",
       "6         FWMF          28.0          13.5            -0.788104   \n",
       "\n",
       "   defense_Tackles_TklW  ...  stats_Per90Minutes_G+A  stats_Per90Minutes_G-PK  \\\n",
       "1             -0.646067  ...                    0.42                     0.14   \n",
       "2             -0.334395  ...                    0.71                     0.39   \n",
       "3             -0.348659  ...                    0.50                     0.31   \n",
       "5             -0.338346  ...                    0.26                     0.13   \n",
       "6             -0.716418  ...                    0.52                     0.45   \n",
       "\n",
       "   stats_Per90Minutes_G+A-PK  stats_Per90Minutes_xG  stats_Per90Minutes_xAG  \\\n",
       "1                       0.42                   0.47                    0.11   \n",
       "2                       0.71                   0.33                    0.24   \n",
       "3                       0.50                   0.31                    0.11   \n",
       "5                       0.26                   0.05                    0.08   \n",
       "6                       0.52                   0.34                    0.13   \n",
       "\n",
       "   stats_Per90Minutes_xG+xAG  stats_Per90Minutes_npxG  \\\n",
       "1                       0.58                     0.47   \n",
       "2                       0.57                     0.28   \n",
       "3                       0.42                     0.31   \n",
       "5                       0.13                     0.05   \n",
       "6                       0.47                     0.34   \n",
       "\n",
       "   stats_Per90Minutes_npxG+xAG  stats_Matches   yob  \n",
       "1                         0.58        Matches  1993  \n",
       "2                         0.52        Matches  2002  \n",
       "3                         0.42        Matches  2000  \n",
       "5                         0.13        Matches  2002  \n",
       "6                         0.47        Matches  1994  \n",
       "\n",
       "[5 rows x 287 columns]"
      ]
     },
     "execution_count": 11,
     "metadata": {},
     "output_type": "execute_result"
    }
   ],
   "source": [
    "fbref_meandiff_df.head()"
   ]
  },
  {
   "cell_type": "code",
   "execution_count": 12,
   "metadata": {},
   "outputs": [
    {
     "data": {
      "text/plain": [
       "Index(['shooting_Standard_Dist'], dtype='object')"
      ]
     },
     "execution_count": 12,
     "metadata": {},
     "output_type": "execute_result"
    }
   ],
   "source": [
    "fbref_meandiff_df[all_stats_columns].columns[fbref_meandiff_df[all_stats_columns].isnull().sum() > 0]"
   ]
  },
  {
   "cell_type": "code",
   "execution_count": 13,
   "metadata": {},
   "outputs": [
    {
     "data": {
      "text/plain": [
       "15"
      ]
     },
     "execution_count": 13,
     "metadata": {},
     "output_type": "execute_result"
    }
   ],
   "source": [
    "fbref_meandiff_df['shooting_Standard_Dist'].isnull().sum()"
   ]
  },
  {
   "cell_type": "code",
   "execution_count": 14,
   "metadata": {},
   "outputs": [],
   "source": [
    "fbref_meandiff_df.dropna(subset=['shooting_Standard_Dist'], inplace=True)"
   ]
  },
  {
   "cell_type": "code",
   "execution_count": 15,
   "metadata": {},
   "outputs": [],
   "source": [
    "fbref_meandiff_df = fbref_meandiff_df[['_Player_', '_Born_', '_Squad_'] + all_stats_columns]"
   ]
  },
  {
   "cell_type": "code",
   "execution_count": 16,
   "metadata": {},
   "outputs": [],
   "source": [
    "fbref_meandiff_df.to_csv(f'data/{season}_FBRef_meandiff.csv')"
   ]
  },
  {
   "cell_type": "markdown",
   "metadata": {},
   "source": [
    "## 03. Aggregate original pre-transformation data per team for team-level statistics."
   ]
  },
  {
   "cell_type": "code",
   "execution_count": 17,
   "metadata": {},
   "outputs": [],
   "source": [
    "team_stats_df = fbref_combined_df.groupby('_Squad_')[all_stats_columns].mean()"
   ]
  },
  {
   "cell_type": "code",
   "execution_count": 18,
   "metadata": {},
   "outputs": [
    {
     "data": {
      "text/plain": [
       "Index([], dtype='object')"
      ]
     },
     "execution_count": 18,
     "metadata": {},
     "output_type": "execute_result"
    }
   ],
   "source": [
    "team_stats_df.columns[team_stats_df.isnull().sum() > 0]"
   ]
  },
  {
   "cell_type": "code",
   "execution_count": 19,
   "metadata": {},
   "outputs": [],
   "source": [
    "team_stats_df.to_csv(f'data/{season}_FBRef_teams.csv')"
   ]
  },
  {
   "cell_type": "markdown",
   "metadata": {},
   "source": [
    "## 04. Apply PCA to reduce the dimensionality of player statistics separately for each statistic group:\n",
    "- defense\n",
    "- touches\n",
    "- passing\n",
    "- progression\n",
    "- attack\n",
    "- miscelaneous"
   ]
  },
  {
   "cell_type": "code",
   "execution_count": 20,
   "metadata": {},
   "outputs": [],
   "source": [
    "from sklearn.decomposition import PCA\n",
    "\n",
    "pca = PCA(n_components=0.8)"
   ]
  },
  {
   "cell_type": "code",
   "execution_count": 21,
   "metadata": {},
   "outputs": [
    {
     "data": {
      "text/plain": [
       "dict_keys(['defense', 'touches', 'passing', 'progres', 'attack', 'misc'])"
      ]
     },
     "execution_count": 21,
     "metadata": {},
     "output_type": "execute_result"
    }
   ],
   "source": [
    "stat_types_dict.keys()"
   ]
  },
  {
   "cell_type": "code",
   "execution_count": 22,
   "metadata": {},
   "outputs": [],
   "source": [
    "fbref_pca_df = fbref_meandiff_df.copy()[['_Player_', '_Born_', '_Squad_']]\n",
    "pca_types_dict = {}\n",
    "\n",
    "for column_group in stat_types_dict.keys():\n",
    "        current_columns = stat_types_dict[column_group]\n",
    "        pca_result = pca.fit_transform(fbref_meandiff_df[current_columns])\n",
    "        pca_names = f'{column_group}_' + pca.get_feature_names_out()\n",
    "        pca_types_dict[column_group] = pca_names.tolist()\n",
    "        fbref_pca_df[pca_names] = pca_result"
   ]
  },
  {
   "cell_type": "code",
   "execution_count": 23,
   "metadata": {},
   "outputs": [],
   "source": [
    "fbref_pca_df.to_csv(f'data/{season}_FBRef_pca.csv')"
   ]
  },
  {
   "cell_type": "code",
   "execution_count": 24,
   "metadata": {},
   "outputs": [
    {
     "data": {
      "text/html": [
       "<div>\n",
       "<style scoped>\n",
       "    .dataframe tbody tr th:only-of-type {\n",
       "        vertical-align: middle;\n",
       "    }\n",
       "\n",
       "    .dataframe tbody tr th {\n",
       "        vertical-align: top;\n",
       "    }\n",
       "\n",
       "    .dataframe thead th {\n",
       "        text-align: right;\n",
       "    }\n",
       "</style>\n",
       "<table border=\"1\" class=\"dataframe\">\n",
       "  <thead>\n",
       "    <tr style=\"text-align: right;\">\n",
       "      <th></th>\n",
       "      <th>_Born_</th>\n",
       "      <th>defense_pca0</th>\n",
       "      <th>defense_pca1</th>\n",
       "      <th>touches_pca0</th>\n",
       "      <th>touches_pca1</th>\n",
       "      <th>passing_pca0</th>\n",
       "      <th>passing_pca1</th>\n",
       "      <th>progres_pca0</th>\n",
       "      <th>progres_pca1</th>\n",
       "      <th>attack_pca0</th>\n",
       "      <th>attack_pca1</th>\n",
       "      <th>attack_pca2</th>\n",
       "      <th>misc_pca0</th>\n",
       "      <th>misc_pca1</th>\n",
       "    </tr>\n",
       "  </thead>\n",
       "  <tbody>\n",
       "    <tr>\n",
       "      <th>count</th>\n",
       "      <td>1845.000000</td>\n",
       "      <td>1.845000e+03</td>\n",
       "      <td>1.845000e+03</td>\n",
       "      <td>1.845000e+03</td>\n",
       "      <td>1.845000e+03</td>\n",
       "      <td>1.845000e+03</td>\n",
       "      <td>1.845000e+03</td>\n",
       "      <td>1.845000e+03</td>\n",
       "      <td>1.845000e+03</td>\n",
       "      <td>1.845000e+03</td>\n",
       "      <td>1.845000e+03</td>\n",
       "      <td>1.845000e+03</td>\n",
       "      <td>1.845000e+03</td>\n",
       "      <td>1.845000e+03</td>\n",
       "    </tr>\n",
       "    <tr>\n",
       "      <th>mean</th>\n",
       "      <td>1995.822764</td>\n",
       "      <td>1.588612e-17</td>\n",
       "      <td>-1.059075e-17</td>\n",
       "      <td>1.925590e-18</td>\n",
       "      <td>-9.627950e-19</td>\n",
       "      <td>-2.792106e-17</td>\n",
       "      <td>6.258168e-18</td>\n",
       "      <td>-2.118149e-17</td>\n",
       "      <td>7.220963e-18</td>\n",
       "      <td>-8.665155e-18</td>\n",
       "      <td>2.310708e-17</td>\n",
       "      <td>-1.251634e-17</td>\n",
       "      <td>4.813975e-18</td>\n",
       "      <td>-1.444193e-17</td>\n",
       "    </tr>\n",
       "    <tr>\n",
       "      <th>std</th>\n",
       "      <td>4.089896</td>\n",
       "      <td>1.695344e+00</td>\n",
       "      <td>1.030647e+00</td>\n",
       "      <td>1.570188e+00</td>\n",
       "      <td>1.034505e+00</td>\n",
       "      <td>1.644895e+00</td>\n",
       "      <td>1.121816e+00</td>\n",
       "      <td>1.522525e+00</td>\n",
       "      <td>8.771617e-01</td>\n",
       "      <td>2.256943e+00</td>\n",
       "      <td>1.756345e+00</td>\n",
       "      <td>1.340481e+00</td>\n",
       "      <td>1.598381e+00</td>\n",
       "      <td>1.045816e+00</td>\n",
       "    </tr>\n",
       "    <tr>\n",
       "      <th>min</th>\n",
       "      <td>1983.000000</td>\n",
       "      <td>-2.695748e+00</td>\n",
       "      <td>-3.770163e+00</td>\n",
       "      <td>-2.371746e+00</td>\n",
       "      <td>-1.722265e+00</td>\n",
       "      <td>-2.345233e+00</td>\n",
       "      <td>-4.165145e+00</td>\n",
       "      <td>-2.066600e+00</td>\n",
       "      <td>-1.328641e+00</td>\n",
       "      <td>-2.348407e+00</td>\n",
       "      <td>-7.383862e+00</td>\n",
       "      <td>-3.448388e+00</td>\n",
       "      <td>-1.723632e+00</td>\n",
       "      <td>-3.958201e+00</td>\n",
       "    </tr>\n",
       "    <tr>\n",
       "      <th>25%</th>\n",
       "      <td>1993.000000</td>\n",
       "      <td>-1.376382e+00</td>\n",
       "      <td>-4.741542e-01</td>\n",
       "      <td>-1.225619e+00</td>\n",
       "      <td>-7.738436e-01</td>\n",
       "      <td>-1.254021e+00</td>\n",
       "      <td>-6.545062e-01</td>\n",
       "      <td>-1.085989e+00</td>\n",
       "      <td>-6.899476e-01</td>\n",
       "      <td>-1.560339e+00</td>\n",
       "      <td>-7.342008e-01</td>\n",
       "      <td>-7.888607e-01</td>\n",
       "      <td>-9.798364e-01</td>\n",
       "      <td>-6.130499e-01</td>\n",
       "    </tr>\n",
       "    <tr>\n",
       "      <th>50%</th>\n",
       "      <td>1996.000000</td>\n",
       "      <td>-3.531519e-01</td>\n",
       "      <td>5.209614e-02</td>\n",
       "      <td>-4.605659e-01</td>\n",
       "      <td>-1.663284e-01</td>\n",
       "      <td>-3.430324e-01</td>\n",
       "      <td>-2.356385e-01</td>\n",
       "      <td>-4.100756e-01</td>\n",
       "      <td>-2.350450e-01</td>\n",
       "      <td>-7.057223e-01</td>\n",
       "      <td>2.539033e-01</td>\n",
       "      <td>-4.793262e-01</td>\n",
       "      <td>-4.665978e-01</td>\n",
       "      <td>1.938444e-01</td>\n",
       "    </tr>\n",
       "    <tr>\n",
       "      <th>75%</th>\n",
       "      <td>1999.000000</td>\n",
       "      <td>1.126501e+00</td>\n",
       "      <td>5.806520e-01</td>\n",
       "      <td>7.437360e-01</td>\n",
       "      <td>6.046086e-01</td>\n",
       "      <td>8.366728e-01</td>\n",
       "      <td>6.472930e-01</td>\n",
       "      <td>7.000794e-01</td>\n",
       "      <td>5.024764e-01</td>\n",
       "      <td>8.173532e-01</td>\n",
       "      <td>8.419314e-01</td>\n",
       "      <td>6.910047e-01</td>\n",
       "      <td>3.803054e-01</td>\n",
       "      <td>7.050174e-01</td>\n",
       "    </tr>\n",
       "    <tr>\n",
       "      <th>max</th>\n",
       "      <td>2006.000000</td>\n",
       "      <td>7.392927e+00</td>\n",
       "      <td>4.325929e+00</td>\n",
       "      <td>6.672787e+00</td>\n",
       "      <td>4.154613e+00</td>\n",
       "      <td>8.956942e+00</td>\n",
       "      <td>4.395317e+00</td>\n",
       "      <td>6.775252e+00</td>\n",
       "      <td>3.883494e+00</td>\n",
       "      <td>1.397355e+01</td>\n",
       "      <td>1.049647e+01</td>\n",
       "      <td>8.388944e+00</td>\n",
       "      <td>1.020310e+01</td>\n",
       "      <td>3.975270e+00</td>\n",
       "    </tr>\n",
       "  </tbody>\n",
       "</table>\n",
       "</div>"
      ],
      "text/plain": [
       "            _Born_  defense_pca0  defense_pca1  touches_pca0  touches_pca1  \\\n",
       "count  1845.000000  1.845000e+03  1.845000e+03  1.845000e+03  1.845000e+03   \n",
       "mean   1995.822764  1.588612e-17 -1.059075e-17  1.925590e-18 -9.627950e-19   \n",
       "std       4.089896  1.695344e+00  1.030647e+00  1.570188e+00  1.034505e+00   \n",
       "min    1983.000000 -2.695748e+00 -3.770163e+00 -2.371746e+00 -1.722265e+00   \n",
       "25%    1993.000000 -1.376382e+00 -4.741542e-01 -1.225619e+00 -7.738436e-01   \n",
       "50%    1996.000000 -3.531519e-01  5.209614e-02 -4.605659e-01 -1.663284e-01   \n",
       "75%    1999.000000  1.126501e+00  5.806520e-01  7.437360e-01  6.046086e-01   \n",
       "max    2006.000000  7.392927e+00  4.325929e+00  6.672787e+00  4.154613e+00   \n",
       "\n",
       "       passing_pca0  passing_pca1  progres_pca0  progres_pca1   attack_pca0  \\\n",
       "count  1.845000e+03  1.845000e+03  1.845000e+03  1.845000e+03  1.845000e+03   \n",
       "mean  -2.792106e-17  6.258168e-18 -2.118149e-17  7.220963e-18 -8.665155e-18   \n",
       "std    1.644895e+00  1.121816e+00  1.522525e+00  8.771617e-01  2.256943e+00   \n",
       "min   -2.345233e+00 -4.165145e+00 -2.066600e+00 -1.328641e+00 -2.348407e+00   \n",
       "25%   -1.254021e+00 -6.545062e-01 -1.085989e+00 -6.899476e-01 -1.560339e+00   \n",
       "50%   -3.430324e-01 -2.356385e-01 -4.100756e-01 -2.350450e-01 -7.057223e-01   \n",
       "75%    8.366728e-01  6.472930e-01  7.000794e-01  5.024764e-01  8.173532e-01   \n",
       "max    8.956942e+00  4.395317e+00  6.775252e+00  3.883494e+00  1.397355e+01   \n",
       "\n",
       "        attack_pca1   attack_pca2     misc_pca0     misc_pca1  \n",
       "count  1.845000e+03  1.845000e+03  1.845000e+03  1.845000e+03  \n",
       "mean   2.310708e-17 -1.251634e-17  4.813975e-18 -1.444193e-17  \n",
       "std    1.756345e+00  1.340481e+00  1.598381e+00  1.045816e+00  \n",
       "min   -7.383862e+00 -3.448388e+00 -1.723632e+00 -3.958201e+00  \n",
       "25%   -7.342008e-01 -7.888607e-01 -9.798364e-01 -6.130499e-01  \n",
       "50%    2.539033e-01 -4.793262e-01 -4.665978e-01  1.938444e-01  \n",
       "75%    8.419314e-01  6.910047e-01  3.803054e-01  7.050174e-01  \n",
       "max    1.049647e+01  8.388944e+00  1.020310e+01  3.975270e+00  "
      ]
     },
     "execution_count": 24,
     "metadata": {},
     "output_type": "execute_result"
    }
   ],
   "source": [
    "fbref_pca_df.describe()"
   ]
  },
  {
   "cell_type": "markdown",
   "metadata": {},
   "source": [
    "## 05. Apply PCA to reduce the dimensionality of team statistics"
   ]
  },
  {
   "cell_type": "code",
   "execution_count": 25,
   "metadata": {},
   "outputs": [],
   "source": [
    "from sklearn.preprocessing import StandardScaler\n",
    "\n",
    "scaler = StandardScaler()\n",
    "\n",
    "team_stats_scaled = scaler.fit_transform(team_stats_df.values)\n",
    "team_stats_scaled = pd.DataFrame(team_stats_scaled,\n",
    "                                 columns=team_stats_df.columns,\n",
    "                                 index=team_stats_df.index)"
   ]
  },
  {
   "cell_type": "code",
   "execution_count": 26,
   "metadata": {},
   "outputs": [],
   "source": [
    "pca_elbow = {}\n",
    "\n",
    "for n_components in range(10):\n",
    "    pca = PCA(n_components=n_components)\n",
    "    pca.fit(team_stats_scaled)\n",
    "    pca_elbow[n_components] = pca.explained_variance_ratio_.sum()"
   ]
  },
  {
   "cell_type": "code",
   "execution_count": 27,
   "metadata": {},
   "outputs": [
    {
     "data": {
      "text/plain": [
       "<Axes: >"
      ]
     },
     "execution_count": 27,
     "metadata": {},
     "output_type": "execute_result"
    },
    {
     "data": {
      "image/png": "[encoded data removed]",
      "text/plain": [
       "<Figure size 640x480 with 1 Axes>"
      ]
     },
     "metadata": {},
     "output_type": "display_data"
    }
   ],
   "source": [
    "sns.lineplot(pca_elbow)"
   ]
  },
  {
   "cell_type": "code",
   "execution_count": 28,
   "metadata": {},
   "outputs": [],
   "source": [
    "pca = PCA(n_components=2)\n",
    "\n",
    "team_pca = pca.fit_transform(team_stats_scaled)\n",
    "team_pca = pd.DataFrame(team_pca, index=team_stats_scaled.index)"
   ]
  },
  {
   "cell_type": "code",
   "execution_count": 29,
   "metadata": {},
   "outputs": [
    {
     "data": {
      "text/plain": [
       "<Axes: xlabel='0', ylabel='1'>"
      ]
     },
     "execution_count": 29,
     "metadata": {},
     "output_type": "execute_result"
    },
    {
     "data": {
      "image/png": "[encoded data removed]",
      "text/plain": [
       "<Figure size 640x480 with 1 Axes>"
      ]
     },
     "metadata": {},
     "output_type": "display_data"
    }
   ],
   "source": [
    "sns.scatterplot(data=team_pca, x=0, y=1)"
   ]
  },
  {
   "cell_type": "code",
   "execution_count": 30,
   "metadata": {},
   "outputs": [
    {
     "data": {
      "text/plain": [
       "0.6488219825288866"
      ]
     },
     "execution_count": 30,
     "metadata": {},
     "output_type": "execute_result"
    }
   ],
   "source": [
    "pca.explained_variance_ratio_.sum()"
   ]
  },
  {
   "cell_type": "code",
   "execution_count": 32,
   "metadata": {},
   "outputs": [],
   "source": [
    "team_pca.to_csv(f'data/{season}_team_pca.csv')"
   ]
  },
  {
   "cell_type": "markdown",
   "metadata": {},
   "source": [
    "## Combine with FM and FC data"
   ]
  },
  {
   "cell_type": "code",
   "execution_count": 8,
   "metadata": {},
   "outputs": [],
   "source": [
    "# load FM data\n",
    "FM_data = pd.read_csv('./data/FM 2023.csv')\n",
    "FM_data['dob'] = pd.to_datetime(FM_data['Date of birth'])\n",
    "FM_data['yob'] = FM_data['dob'].dt.year\n",
    "# load FC data\n",
    "FC_data = pd.read_csv('./data/FC24.csv')\n",
    "FC_data = FC_data[FC_data['update_as_of']=='2022-09-26']\n",
    "FC_data['dob'] = pd.to_datetime(FC_data['dob'])\n",
    "FC_data['yob'] = FC_data['dob'].dt.year"
   ]
  },
  {
   "cell_type": "code",
   "execution_count": 9,
   "metadata": {},
   "outputs": [],
   "source": [
    "fbref_combined_outfielders_grouped = fbref_combined_outfielders_df.groupby('yob')"
   ]
  },
  {
   "cell_type": "code",
   "execution_count": 10,
   "metadata": {},
   "outputs": [
    {
     "name": "stderr",
     "output_type": "stream",
     "text": [
      "100%|██████████| 8452/8452 [02:04<00:00, 68.16it/s] \n"
     ]
    }
   ],
   "source": [
    "FM_data['name_match'] = FM_data.progress_apply(lambda row: get_best_match(\n",
    "    row['Name'], row['yob'], grouped_df=fbref_combined_outfielders_grouped,\n",
    "    player_col='_Player_', threshold=80), axis=1)"
   ]
  },
  {
   "cell_type": "code",
   "execution_count": 11,
   "metadata": {},
   "outputs": [
    {
     "name": "stderr",
     "output_type": "stream",
     "text": [
      "100%|██████████| 18533/18533 [06:41<00:00, 46.20it/s] \n"
     ]
    }
   ],
   "source": [
    "FC_data['name_match'] = FC_data.progress_apply(lambda row: get_best_match(\n",
    "    row['long_name'], row['yob'], grouped_df=fbref_combined_outfielders_grouped,\n",
    "    player_col='_Player_', threshold=80), axis=1)"
   ]
  },
  {
   "cell_type": "code",
   "execution_count": 12,
   "metadata": {},
   "outputs": [],
   "source": [
    "# combine FM and FC dataframes with FBRef\n",
    "FM_fbref_combined_df = fbref_combined_outfielders_df.merge(right=FM_data, left_on=['_Player_', '_Born_'], right_on=['name_match', 'yob'], how='inner')\n",
    "FC_fbref_combined_df = fbref_combined_outfielders_df.merge(right=FC_data, left_on=['_Player_', '_Born_'], right_on=['name_match', 'yob'], how='inner')"
   ]
  },
  {
   "cell_type": "code",
   "execution_count": 13,
   "metadata": {},
   "outputs": [],
   "source": [
    "FM_fbref_combined_df = FM_fbref_combined_df[['_Player_'] + all_stats_columns + FM_columns]\n",
    "FC_fbref_combined_df = FC_fbref_combined_df[['_Player_'] + all_stats_columns + FC_columns]"
   ]
  },
  {
   "cell_type": "code",
   "execution_count": 14,
   "metadata": {},
   "outputs": [],
   "source": [
    "# store the combined files\n",
    "FM_fbref_combined_df.to_csv(f'data/FM_fbref_combined_data_{season}.csv')\n",
    "FC_fbref_combined_df.to_csv(f'data/FC_fbref_combined_data_{season}.csv')"
   ]
  },
  {
   "cell_type": "code",
   "execution_count": null,
   "metadata": {},
   "outputs": [],
   "source": []
  }
 ],
 "metadata": {
  "kernelspec": {
   "display_name": "fbref",
   "language": "python",
   "name": "python3"
  },
  "language_info": {
   "codemirror_mode": {
    "name": "ipython",
    "version": 3
   },
   "file_extension": ".py",
   "mimetype": "text/x-python",
   "name": "python",
   "nbconvert_exporter": "python",
   "pygments_lexer": "ipython3",
   "version": "3.12.0"
  }
 },
 "nbformat": 4,
 "nbformat_minor": 2
}
