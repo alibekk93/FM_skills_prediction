{
 "cells": [
  {
   "cell_type": "markdown",
   "metadata": {},
   "source": [
    "# 01. Data preparation\n",
    "\n",
    "1. Load raw dataframes\n",
    "2. *Normalize per team*\n",
    "3. *Cluster team data*\n",
    "4. Combine with FM data\n",
    "\n",
    "**Normalize per team:**\n",
    "\n",
    "We will normalize stats per each team. The point is that a defensive player of a stronger team might have more attacking stats than an attacking player of a weaker team just because of overall possession and tactics. Team information would be passed as a cluster type, but for the purpose of stats analysis it is best to have information about a player from within the team, how important their contribution is for the team\n",
    "\n",
    "**Cluster team data:**\n",
    "\n",
    "Mean statistics grouped by team would be used to cluster teams. The cluster will then be used as a feature to evaluate players"
   ]
  },
  {
   "cell_type": "code",
   "execution_count": 33,
   "metadata": {},
   "outputs": [],
   "source": [
    "# change wd to repo home\n",
    "import os\n",
    "if os.getcwd().split('\\\\')[-1] == 'notebooks':\n",
    "    os.chdir('..')"
   ]
  },
  {
   "cell_type": "code",
   "execution_count": 34,
   "metadata": {},
   "outputs": [],
   "source": [
    "from modules.fm_functions import *\n",
    "import warnings\n",
    "warnings.filterwarnings(action='ignore')"
   ]
  },
  {
   "cell_type": "markdown",
   "metadata": {},
   "source": [
    "## Combine all FBRef data into one dataframe"
   ]
  },
  {
   "cell_type": "code",
   "execution_count": 35,
   "metadata": {},
   "outputs": [],
   "source": [
    "import pandas as pd"
   ]
  },
  {
   "cell_type": "code",
   "execution_count": 89,
   "metadata": {},
   "outputs": [],
   "source": [
    "season = '2023'\n",
    "\n",
    "# load FBRef data in separate dfs\n",
    "fbref_dfs = {filename : pd.read_csv(f'data/FBRef_split/{filename}', index_col=0)\n",
    "             for filename in os.listdir('data/FBRef_split')\n",
    "             if filename.split('_')[-1][:4] == season}"
   ]
  },
  {
   "cell_type": "code",
   "execution_count": 90,
   "metadata": {},
   "outputs": [],
   "source": [
    "# combine FBRef dfs by type first\n",
    "table_types = ['defense', 'gca', 'keepersadv', 'keepers', 'misc', 'passingtypes',\n",
    "               'passing', 'playingtime', 'possession', 'shooting', 'stats']\n",
    "\n",
    "fbref_dfs_types = {}\n",
    "\n",
    "for t in table_types:\n",
    "    fbref_dfs_types[t] = {}\n",
    "    for k in fbref_dfs.keys():\n",
    "        if k.split('_')[1] == t:\n",
    "            fbref_dfs_types[t][k.split('_')[0]] = fbref_dfs[k]\n",
    "    try:\n",
    "        fbref_dfs_types[t] = pd.concat(fbref_dfs_types[t], axis=0, ignore_index=True).set_index(['_Player', '_Squad', '_Born'])\n",
    "    except:\n",
    "        print(t)"
   ]
  },
  {
   "cell_type": "code",
   "execution_count": 91,
   "metadata": {},
   "outputs": [],
   "source": [
    "# combine FBRef dfs into one\n",
    "fbref_combined_df = pd.concat(fbref_dfs_types, axis=1).reset_index()\n",
    "fbref_combined_df.columns = fbref_combined_df.columns.map(lambda x: '_'.join(map(str, x)))"
   ]
  },
  {
   "cell_type": "code",
   "execution_count": 92,
   "metadata": {},
   "outputs": [],
   "source": [
    "# store a complete FBRef file\n",
    "fbref_combined_df.to_csv(f'data/{season}_FBRef_combined.csv')"
   ]
  },
  {
   "cell_type": "markdown",
   "metadata": {},
   "source": [
    "## Normalize each column selection by team"
   ]
  },
  {
   "cell_type": "code",
   "execution_count": 93,
   "metadata": {},
   "outputs": [],
   "source": [
    "from sklearn.preprocessing import MinMaxScaler"
   ]
  },
  {
   "cell_type": "markdown",
   "metadata": {},
   "source": [
    "Drop players with fewer than 500 minutes"
   ]
  },
  {
   "cell_type": "code",
   "execution_count": 94,
   "metadata": {},
   "outputs": [],
   "source": [
    "fbref_combined_filtered_df = fbref_combined_df[fbref_combined_df['playingtime_PlayingTime_Min']>=500]"
   ]
  },
  {
   "cell_type": "code",
   "execution_count": 95,
   "metadata": {},
   "outputs": [],
   "source": [
    "# function to apply Min-Max scaling based on selected group and per-90 minutes stats\n",
    "def group_minmax_scaling(group):\n",
    "    scaler = MinMaxScaler()\n",
    "    # Divide each column by 'playingtime_PlayingTime_Min' except for 'playingtime_PlayingTime_Min' itself\n",
    "    for column in all_stats_columns:\n",
    "        if column != 'playingtime_PlayingTime_Min' and column in group.columns:\n",
    "            group[column] = group[column] / group['playingtime_PlayingTime_Min']\n",
    "    # Apply Min-Max scaling\n",
    "    group[all_stats_columns] = scaler.fit_transform(group[all_stats_columns])\n",
    "    return group"
   ]
  },
  {
   "cell_type": "code",
   "execution_count": 96,
   "metadata": {},
   "outputs": [],
   "source": [
    "fbref_normalized_df = fbref_combined_filtered_df.groupby('_Squad_', as_index=False).apply(group_minmax_scaling)"
   ]
  },
  {
   "cell_type": "markdown",
   "metadata": {},
   "source": [
    "## Cluster teams"
   ]
  },
  {
   "cell_type": "markdown",
   "metadata": {},
   "source": [
    "**to do: PCA instead of clusters** "
   ]
  },
  {
   "cell_type": "code",
   "execution_count": 97,
   "metadata": {},
   "outputs": [],
   "source": [
    "fbref_teams_df = fbref_combined_filtered_df.groupby('_Squad_')[all_stats_columns].mean()"
   ]
  },
  {
   "cell_type": "code",
   "execution_count": 98,
   "metadata": {},
   "outputs": [],
   "source": [
    "from sklearn.cluster import KMeans\n",
    "from sklearn.preprocessing import StandardScaler"
   ]
  },
  {
   "cell_type": "code",
   "execution_count": 99,
   "metadata": {},
   "outputs": [],
   "source": [
    "team_scaler = StandardScaler()\n",
    "fbref_teams_scaled = team_scaler.fit_transform(fbref_teams_df.values)"
   ]
  },
  {
   "cell_type": "code",
   "execution_count": 100,
   "metadata": {},
   "outputs": [],
   "source": [
    "import seaborn as sns\n",
    "\n",
    "n_clusters = {}\n",
    "for k in range(1,11):\n",
    "    team_clusters_kmeans = KMeans(n_clusters=k)\n",
    "    team_clusters_kmeans.fit(fbref_teams_scaled)\n",
    "    n_clusters[k] = team_clusters_kmeans.inertia_"
   ]
  },
  {
   "cell_type": "code",
   "execution_count": 101,
   "metadata": {},
   "outputs": [
    {
     "data": {
      "text/plain": [
       "<Axes: >"
      ]
     },
     "execution_count": 101,
     "metadata": {},
     "output_type": "execute_result"
    },
    {
     "data": {
      "image/png": "[encoded data removed]",
      "text/plain": [
       "<Figure size 640x480 with 1 Axes>"
      ]
     },
     "metadata": {},
     "output_type": "display_data"
    }
   ],
   "source": [
    "sns.lineplot(n_clusters)"
   ]
  },
  {
   "cell_type": "code",
   "execution_count": 102,
   "metadata": {},
   "outputs": [],
   "source": [
    "team_clusters_kmeans = KMeans(n_clusters=4)\n",
    "\n",
    "team_clusters = team_clusters_kmeans.fit_predict(fbref_teams_scaled)\n",
    "\n",
    "fbref_teams_df['cluster'] = team_clusters"
   ]
  },
  {
   "cell_type": "code",
   "execution_count": 103,
   "metadata": {},
   "outputs": [],
   "source": [
    "fbref_normalized_df['team_cluster'] = fbref_teams_df.loc[fbref_normalized_df.loc[:, '_Squad_'], 'cluster'].values"
   ]
  },
  {
   "cell_type": "code",
   "execution_count": 104,
   "metadata": {},
   "outputs": [],
   "source": [
    "fbref_normalized_df.reset_index(inplace=True, drop=True)"
   ]
  },
  {
   "cell_type": "markdown",
   "metadata": {},
   "source": [
    "## Combine with FM data"
   ]
  },
  {
   "cell_type": "code",
   "execution_count": 105,
   "metadata": {},
   "outputs": [],
   "source": [
    "# drop keepers\n",
    "fbref_normalized_outfielders_df = fbref_normalized_df[fbref_normalized_df['stats__Pos']!='GK']"
   ]
  },
  {
   "cell_type": "code",
   "execution_count": 106,
   "metadata": {},
   "outputs": [],
   "source": [
    "# load FM data\n",
    "FM_data = pd.read_csv('./data/FM 2023.csv')"
   ]
  },
  {
   "cell_type": "code",
   "execution_count": 107,
   "metadata": {},
   "outputs": [],
   "source": [
    "FM_data['YOB'] = pd.to_datetime(FM_data['Date of birth']).dt.year"
   ]
  },
  {
   "cell_type": "code",
   "execution_count": 108,
   "metadata": {},
   "outputs": [],
   "source": [
    "# combine the two dataframes\n",
    "combined_data = fbref_normalized_outfielders_df.drop_duplicates(['_Player_', '_Born_']).merge(right=FM_data, left_on=['_Player_', '_Born_'],\n",
    "                                                                                              right_on=['Name', 'YOB'], how='inner')\n",
    "combined_data = combined_data[['team_cluster'] + all_stats_columns + FM_columns]"
   ]
  },
  {
   "cell_type": "code",
   "execution_count": 109,
   "metadata": {},
   "outputs": [],
   "source": [
    "# store the combined file\n",
    "combined_data.to_csv(f'data/{season}_combined_data.csv')"
   ]
  },
  {
   "cell_type": "code",
   "execution_count": null,
   "metadata": {},
   "outputs": [],
   "source": []
  }
 ],
 "metadata": {
  "kernelspec": {
   "display_name": "fbref",
   "language": "python",
   "name": "python3"
  },
  "language_info": {
   "codemirror_mode": {
    "name": "ipython",
    "version": 3
   },
   "file_extension": ".py",
   "mimetype": "text/x-python",
   "name": "python",
   "nbconvert_exporter": "python",
   "pygments_lexer": "ipython3",
   "version": "3.12.0"
  }
 },
 "nbformat": 4,
 "nbformat_minor": 2
}
