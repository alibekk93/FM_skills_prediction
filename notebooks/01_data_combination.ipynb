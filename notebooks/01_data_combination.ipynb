{
 "cells": [
  {
   "cell_type": "markdown",
   "metadata": {},
   "source": [
    "# 01. Data Combination\n",
    "Combine data from all sources into one **huge** dataframe"
   ]
  },
  {
   "cell_type": "code",
   "execution_count": 1,
   "metadata": {},
   "outputs": [],
   "source": [
    "# change wd to repo home\n",
    "import os\n",
    "if os.getcwd().split('\\\\')[-1] != 'FM skills prediction':\n",
    "    os.chdir('..')"
   ]
  },
  {
   "cell_type": "code",
   "execution_count": 2,
   "metadata": {},
   "outputs": [],
   "source": [
    "import pandas as pd"
   ]
  },
  {
   "cell_type": "code",
   "execution_count": 3,
   "metadata": {},
   "outputs": [],
   "source": [
    "# load FBRef data in separate dfs\n",
    "fbref_dfs = {filename : pd.read_csv(f'data/FBRef/{filename}', index_col=0)\n",
    "             for filename in os.listdir('data/FBRef')}"
   ]
  },
  {
   "cell_type": "code",
   "execution_count": 34,
   "metadata": {},
   "outputs": [],
   "source": [
    "# combine FBRef dfs by type first\n",
    "table_types = ['defense', 'gca', 'keepersadv', 'keepers', 'misc', 'passingtypes',\n",
    "               'passing', 'playingtime', 'possession', 'shooting', 'stats']\n",
    "\n",
    "fbref_dfs_types = {}\n",
    "\n",
    "for t in table_types:\n",
    "    fbref_dfs_types[t] = {}\n",
    "    for k in fbref_dfs.keys():\n",
    "        if k.split('_')[1] == t:\n",
    "            fbref_dfs_types[t][k.split('_')[0]] = fbref_dfs[k]\n",
    "    fbref_dfs_types[t] = pd.concat(fbref_dfs_types[t], axis=0, ignore_index=True).set_index(['_Player', '_Squad', '_Born'])"
   ]
  },
  {
   "cell_type": "code",
   "execution_count": 58,
   "metadata": {},
   "outputs": [],
   "source": [
    "# combine FBRef dfs into one\n",
    "fbref_combined_df = pd.concat(fbref_dfs_types, axis=1).reset_index()\n",
    "fbref_combined_df.columns = fbref_combined_df.columns.map(lambda x: '_'.join(map(str, x)))"
   ]
  },
  {
   "cell_type": "code",
   "execution_count": 77,
   "metadata": {},
   "outputs": [],
   "source": [
    "# store a complete FBRef file\n",
    "fbref_combined_df.to_csv('data/FBRef_combined.csv')"
   ]
  },
  {
   "cell_type": "markdown",
   "metadata": {},
   "source": [
    "This dataframe still contains multiple duplicates and a crazy number of columns. Duplicates are there becuse some players played for more than one team in a season. Columns are so numerous because I've been lazy and did not bother cleaning them"
   ]
  },
  {
   "cell_type": "markdown",
   "metadata": {},
   "source": [
    "To deal with player duplicates, we will forst remove players with fewer than 900 minutes (less that 10 '90s')"
   ]
  },
  {
   "cell_type": "code",
   "execution_count": 115,
   "metadata": {},
   "outputs": [
    {
     "name": "stderr",
     "output_type": "stream",
     "text": [
      "C:\\Users\\alibe\\AppData\\Local\\Temp\\ipykernel_46136\\2573432723.py:2: SettingWithCopyWarning: \n",
      "A value is trying to be set on a copy of a slice from a DataFrame\n",
      "\n",
      "See the caveats in the documentation: https://pandas.pydata.org/pandas-docs/stable/user_guide/indexing.html#returning-a-view-versus-a-copy\n",
      "  fbref_combined_filtered_df.drop_duplicates(['_Player_'], inplace=True)\n"
     ]
    }
   ],
   "source": [
    "fbref_combined_filtered_df = fbref_combined_df[fbref_combined_df['misc__90s']<10]\n",
    "fbref_combined_filtered_df.drop_duplicates(['_Player_'], inplace=True)"
   ]
  },
  {
   "cell_type": "code",
   "execution_count": null,
   "metadata": {},
   "outputs": [],
   "source": [
    "# load FM data\n",
    "fm_fd = pd.read_csv('data/FM 2023.csv')"
   ]
  },
  {
   "cell_type": "code",
   "execution_count": 123,
   "metadata": {},
   "outputs": [],
   "source": [
    "data_all = fbref_combined_filtered_df.merge(right=fm_fd, left_on='_Player_', right_on='Name', how='inner')"
   ]
  },
  {
   "cell_type": "code",
   "execution_count": 124,
   "metadata": {},
   "outputs": [
    {
     "data": {
      "text/html": [
       "<div>\n",
       "<style scoped>\n",
       "    .dataframe tbody tr th:only-of-type {\n",
       "        vertical-align: middle;\n",
       "    }\n",
       "\n",
       "    .dataframe tbody tr th {\n",
       "        vertical-align: top;\n",
       "    }\n",
       "\n",
       "    .dataframe thead th {\n",
       "        text-align: right;\n",
       "    }\n",
       "</style>\n",
       "<table border=\"1\" class=\"dataframe\">\n",
       "  <thead>\n",
       "    <tr style=\"text-align: right;\">\n",
       "      <th></th>\n",
       "      <th>_Player_</th>\n",
       "      <th>_Squad_</th>\n",
       "      <th>_Born_</th>\n",
       "      <th>defense__Rk</th>\n",
       "      <th>defense__Nation</th>\n",
       "      <th>defense__Pos</th>\n",
       "      <th>defense__Age</th>\n",
       "      <th>defense__90s</th>\n",
       "      <th>defense_Tackles_Tkl</th>\n",
       "      <th>defense_Tackles_TklW</th>\n",
       "      <th>...</th>\n",
       "      <th>World reputation</th>\n",
       "      <th>Race</th>\n",
       "      <th>RCA</th>\n",
       "      <th>Colour of skin</th>\n",
       "      <th>Date of birth</th>\n",
       "      <th>Number of national team appearances</th>\n",
       "      <th>Goals scored for the national team</th>\n",
       "      <th>Salary</th>\n",
       "      <th>Rental club</th>\n",
       "      <th>UID</th>\n",
       "    </tr>\n",
       "  </thead>\n",
       "  <tbody>\n",
       "    <tr>\n",
       "      <th>0</th>\n",
       "      <td>Sargis Adamyan</td>\n",
       "      <td>Köln</td>\n",
       "      <td>1993</td>\n",
       "      <td>2.0</td>\n",
       "      <td>am ARM</td>\n",
       "      <td>FWMF</td>\n",
       "      <td>29.0</td>\n",
       "      <td>7.2</td>\n",
       "      <td>14.0</td>\n",
       "      <td>7.0</td>\n",
       "      <td>...</td>\n",
       "      <td>4748</td>\n",
       "      <td>North_African__Middle_Eastern</td>\n",
       "      <td>115</td>\n",
       "      <td>7</td>\n",
       "      <td>1993/5/23</td>\n",
       "      <td>34</td>\n",
       "      <td>2</td>\n",
       "      <td>12499.0</td>\n",
       "      <td>NaN</td>\n",
       "      <td>92057768</td>\n",
       "    </tr>\n",
       "    <tr>\n",
       "      <th>1</th>\n",
       "      <td>Felix Agu</td>\n",
       "      <td>Werder Bremen</td>\n",
       "      <td>1999</td>\n",
       "      <td>5.0</td>\n",
       "      <td>de GER</td>\n",
       "      <td>DFFW</td>\n",
       "      <td>22.0</td>\n",
       "      <td>0.5</td>\n",
       "      <td>1.0</td>\n",
       "      <td>0.0</td>\n",
       "      <td>...</td>\n",
       "      <td>4599</td>\n",
       "      <td>Mixed_Race</td>\n",
       "      <td>113</td>\n",
       "      <td>10</td>\n",
       "      <td>1999/9/27</td>\n",
       "      <td>0</td>\n",
       "      <td>0</td>\n",
       "      <td>12997.0</td>\n",
       "      <td>NaN</td>\n",
       "      <td>92098106</td>\n",
       "    </tr>\n",
       "    <tr>\n",
       "      <th>2</th>\n",
       "      <td>Lucas Alario</td>\n",
       "      <td>Eint Frankfurt</td>\n",
       "      <td>1992</td>\n",
       "      <td>9.0</td>\n",
       "      <td>ar ARG</td>\n",
       "      <td>FWMF</td>\n",
       "      <td>29.0</td>\n",
       "      <td>3.7</td>\n",
       "      <td>3.0</td>\n",
       "      <td>2.0</td>\n",
       "      <td>...</td>\n",
       "      <td>5998</td>\n",
       "      <td>Mediterranean_Hispanic</td>\n",
       "      <td>134</td>\n",
       "      <td>6</td>\n",
       "      <td>1992/10/8</td>\n",
       "      <td>9</td>\n",
       "      <td>3</td>\n",
       "      <td>47944.0</td>\n",
       "      <td>NaN</td>\n",
       "      <td>14046979</td>\n",
       "    </tr>\n",
       "    <tr>\n",
       "      <th>3</th>\n",
       "      <td>Faride Alidou</td>\n",
       "      <td>Eint Frankfurt</td>\n",
       "      <td>2001</td>\n",
       "      <td>10.0</td>\n",
       "      <td>de GER</td>\n",
       "      <td>DFMF</td>\n",
       "      <td>21.0</td>\n",
       "      <td>2.0</td>\n",
       "      <td>8.0</td>\n",
       "      <td>5.0</td>\n",
       "      <td>...</td>\n",
       "      <td>3745</td>\n",
       "      <td>African_Caribbean</td>\n",
       "      <td>109</td>\n",
       "      <td>16</td>\n",
       "      <td>2001/7/18</td>\n",
       "      <td>0</td>\n",
       "      <td>0</td>\n",
       "      <td>7614.0</td>\n",
       "      <td>NaN</td>\n",
       "      <td>91206292</td>\n",
       "    </tr>\n",
       "    <tr>\n",
       "      <th>4</th>\n",
       "      <td>Lukáš Ambros</td>\n",
       "      <td>Wolfsburg</td>\n",
       "      <td>2004</td>\n",
       "      <td>12.0</td>\n",
       "      <td>cz CZE</td>\n",
       "      <td>MF</td>\n",
       "      <td>18.0</td>\n",
       "      <td>0.2</td>\n",
       "      <td>1.0</td>\n",
       "      <td>0.0</td>\n",
       "      <td>...</td>\n",
       "      <td>3623</td>\n",
       "      <td>Northern_European</td>\n",
       "      <td>102</td>\n",
       "      <td>4</td>\n",
       "      <td>2004/6/5</td>\n",
       "      <td>0</td>\n",
       "      <td>0</td>\n",
       "      <td>4794.0</td>\n",
       "      <td>NaN</td>\n",
       "      <td>2000141427</td>\n",
       "    </tr>\n",
       "  </tbody>\n",
       "</table>\n",
       "<p>5 rows × 384 columns</p>\n",
       "</div>"
      ],
      "text/plain": [
       "         _Player_         _Squad_  _Born_  defense__Rk defense__Nation  \\\n",
       "0  Sargis Adamyan            Köln    1993          2.0          am ARM   \n",
       "1       Felix Agu   Werder Bremen    1999          5.0          de GER   \n",
       "2    Lucas Alario  Eint Frankfurt    1992          9.0          ar ARG   \n",
       "3   Faride Alidou  Eint Frankfurt    2001         10.0          de GER   \n",
       "4    Lukáš Ambros       Wolfsburg    2004         12.0          cz CZE   \n",
       "\n",
       "  defense__Pos  defense__Age  defense__90s  defense_Tackles_Tkl  \\\n",
       "0         FWMF          29.0           7.2                 14.0   \n",
       "1         DFFW          22.0           0.5                  1.0   \n",
       "2         FWMF          29.0           3.7                  3.0   \n",
       "3         DFMF          21.0           2.0                  8.0   \n",
       "4           MF          18.0           0.2                  1.0   \n",
       "\n",
       "   defense_Tackles_TklW  ...  World reputation                           Race  \\\n",
       "0                   7.0  ...              4748  North_African__Middle_Eastern   \n",
       "1                   0.0  ...              4599                     Mixed_Race   \n",
       "2                   2.0  ...              5998         Mediterranean_Hispanic   \n",
       "3                   5.0  ...              3745              African_Caribbean   \n",
       "4                   0.0  ...              3623              Northern_European   \n",
       "\n",
       "   RCA  Colour of skin  Date of birth  Number of national team appearances  \\\n",
       "0  115               7      1993/5/23                                   34   \n",
       "1  113              10      1999/9/27                                    0   \n",
       "2  134               6      1992/10/8                                    9   \n",
       "3  109              16      2001/7/18                                    0   \n",
       "4  102               4       2004/6/5                                    0   \n",
       "\n",
       "   Goals scored for the national team   Salary  Rental club         UID  \n",
       "0                                   2  12499.0          NaN    92057768  \n",
       "1                                   0  12997.0          NaN    92098106  \n",
       "2                                   3  47944.0          NaN    14046979  \n",
       "3                                   0   7614.0          NaN    91206292  \n",
       "4                                   0   4794.0          NaN  2000141427  \n",
       "\n",
       "[5 rows x 384 columns]"
      ]
     },
     "execution_count": 124,
     "metadata": {},
     "output_type": "execute_result"
    }
   ],
   "source": [
    "data_all.head()"
   ]
  }
 ],
 "metadata": {
  "kernelspec": {
   "display_name": "fbref",
   "language": "python",
   "name": "python3"
  },
  "language_info": {
   "codemirror_mode": {
    "name": "ipython",
    "version": 3
   },
   "file_extension": ".py",
   "mimetype": "text/x-python",
   "name": "python",
   "nbconvert_exporter": "python",
   "pygments_lexer": "ipython3",
   "version": "3.12.0"
  }
 },
 "nbformat": 4,
 "nbformat_minor": 2
}
