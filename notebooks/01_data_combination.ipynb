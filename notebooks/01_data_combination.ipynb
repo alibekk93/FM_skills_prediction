{
 "cells": [
  {
   "cell_type": "markdown",
   "metadata": {},
   "source": [
    "# 01. Data Combination\n",
    "Combine data from all sources into one **huge** dataframe"
   ]
  },
  {
   "cell_type": "code",
   "execution_count": 1,
   "metadata": {},
   "outputs": [],
   "source": [
    "# change wd to repo home\n",
    "import os\n",
    "if os.getcwd().split('\\\\')[-1] != 'FM skills prediction':\n",
    "    os.chdir('..')"
   ]
  },
  {
   "cell_type": "code",
   "execution_count": 2,
   "metadata": {},
   "outputs": [],
   "source": [
    "import pandas as pd"
   ]
  },
  {
   "cell_type": "code",
   "execution_count": 3,
   "metadata": {},
   "outputs": [],
   "source": [
    "# load FM data\n",
    "fm_fd = pd.read_csv('data/FM 2023.csv')\n",
    "\n",
    "# load FBRef data\n",
    "fbref_dfs = {filename : pd.read_csv(f'data/FBRef/{filename}', index_col=0)\n",
    "             for filename in os.listdir('data/FBRef')}"
   ]
  },
  {
   "cell_type": "code",
   "execution_count": 34,
   "metadata": {},
   "outputs": [],
   "source": [
    "table_types = ['defense', 'gca', 'keepersadv', 'keepers', 'misc', 'passingtypes',\n",
    "               'passing', 'playingtime', 'possession', 'shooting', 'stats']\n",
    "\n",
    "fbref_dfs_types = {}\n",
    "\n",
    "for t in table_types:\n",
    "    fbref_dfs_types[t] = {}\n",
    "    for k in fbref_dfs.keys():\n",
    "        if k.split('_')[1] == t:\n",
    "            fbref_dfs_types[t][k.split('_')[0]] = fbref_dfs[k]\n",
    "    fbref_dfs_types[t] = pd.concat(fbref_dfs_types[t], axis=0, ignore_index=True).set_index(['_Player', '_Squad', '_Born'])"
   ]
  },
  {
   "cell_type": "code",
   "execution_count": 58,
   "metadata": {},
   "outputs": [],
   "source": [
    "fbref_combined_df = pd.concat(fbref_dfs_types, axis=1).reset_index()\n",
    "fbref_combined_df.columns = fbref_combined_df.columns.map(lambda x: '_'.join(map(str, x)))"
   ]
  },
  {
   "cell_type": "code",
   "execution_count": 77,
   "metadata": {},
   "outputs": [],
   "source": [
    "fbref_combined_df.to_csv('data/FBRef_combined.csv')"
   ]
  },
  {
   "cell_type": "code",
   "execution_count": null,
   "metadata": {},
   "outputs": [],
   "source": []
  },
  {
   "cell_type": "code",
   "execution_count": null,
   "metadata": {},
   "outputs": [],
   "source": []
  },
  {
   "cell_type": "code",
   "execution_count": null,
   "metadata": {},
   "outputs": [],
   "source": []
  }
 ],
 "metadata": {
  "kernelspec": {
   "display_name": "fbref",
   "language": "python",
   "name": "python3"
  },
  "language_info": {
   "codemirror_mode": {
    "name": "ipython",
    "version": 3
   },
   "file_extension": ".py",
   "mimetype": "text/x-python",
   "name": "python",
   "nbconvert_exporter": "python",
   "pygments_lexer": "ipython3",
   "version": "3.12.0"
  }
 },
 "nbformat": 4,
 "nbformat_minor": 2
}
