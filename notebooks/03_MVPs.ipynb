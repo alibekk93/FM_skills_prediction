{
 "cells": [
  {
   "cell_type": "markdown",
   "metadata": {},
   "source": [
    "# 03. MVPs\n",
    "A number of simple models to test initial assumptions"
   ]
  },
  {
   "cell_type": "code",
   "execution_count": 1,
   "metadata": {},
   "outputs": [],
   "source": [
    "# change wd to repo home\n",
    "import os\n",
    "if os.getcwd().split('\\\\')[-1] == 'notebooks':\n",
    "    os.chdir('..')"
   ]
  },
  {
   "cell_type": "code",
   "execution_count": 2,
   "metadata": {},
   "outputs": [],
   "source": [
    "import matplotlib.pyplot as plt\n",
    "import seaborn as sns"
   ]
  },
  {
   "cell_type": "code",
   "execution_count": 3,
   "metadata": {},
   "outputs": [],
   "source": [
    "from modules.fm_functions import *\n",
    "predict_columns = FM_columns[2:]"
   ]
  },
  {
   "cell_type": "markdown",
   "metadata": {},
   "source": [
    "Load data"
   ]
  },
  {
   "cell_type": "code",
   "execution_count": 4,
   "metadata": {},
   "outputs": [],
   "source": [
    "import pandas as pd\n",
    "combined_data = pd.read_csv('./data/combined_data.csv', index_col='Name').iloc[:, 1:].dropna(axis=0)"
   ]
  },
  {
   "cell_type": "code",
   "execution_count": 5,
   "metadata": {},
   "outputs": [
    {
     "data": {
      "text/html": [
       "<div>\n",
       "<style scoped>\n",
       "    .dataframe tbody tr th:only-of-type {\n",
       "        vertical-align: middle;\n",
       "    }\n",
       "\n",
       "    .dataframe tbody tr th {\n",
       "        vertical-align: top;\n",
       "    }\n",
       "\n",
       "    .dataframe thead th {\n",
       "        text-align: right;\n",
       "    }\n",
       "</style>\n",
       "<table border=\"1\" class=\"dataframe\">\n",
       "  <thead>\n",
       "    <tr style=\"text-align: right;\">\n",
       "      <th></th>\n",
       "      <th>team_cluster</th>\n",
       "      <th>defense_Blocks_Blocks</th>\n",
       "      <th>defense_Tackles_Tkl</th>\n",
       "      <th>defense_Tackles_TklW</th>\n",
       "      <th>defense_Tackles_Def 3rd</th>\n",
       "      <th>defense_Tackles_Mid 3rd</th>\n",
       "      <th>defense_Tackles_Att 3rd</th>\n",
       "      <th>defense__Int</th>\n",
       "      <th>defense__Clr</th>\n",
       "      <th>possession_Touches_Def Pen</th>\n",
       "      <th>...</th>\n",
       "      <th>Work Rate</th>\n",
       "      <th>Positioning</th>\n",
       "      <th>Acceleration</th>\n",
       "      <th>Agility</th>\n",
       "      <th>Balance</th>\n",
       "      <th>Jumping Reach</th>\n",
       "      <th>Natural Fitness</th>\n",
       "      <th>Pace</th>\n",
       "      <th>Stamina</th>\n",
       "      <th>Strength</th>\n",
       "    </tr>\n",
       "    <tr>\n",
       "      <th>Name</th>\n",
       "      <th></th>\n",
       "      <th></th>\n",
       "      <th></th>\n",
       "      <th></th>\n",
       "      <th></th>\n",
       "      <th></th>\n",
       "      <th></th>\n",
       "      <th></th>\n",
       "      <th></th>\n",
       "      <th></th>\n",
       "      <th></th>\n",
       "      <th></th>\n",
       "      <th></th>\n",
       "      <th></th>\n",
       "      <th></th>\n",
       "      <th></th>\n",
       "      <th></th>\n",
       "      <th></th>\n",
       "      <th></th>\n",
       "      <th></th>\n",
       "      <th></th>\n",
       "    </tr>\n",
       "  </thead>\n",
       "  <tbody>\n",
       "    <tr>\n",
       "      <th>Youcef Belaïli</th>\n",
       "      <td>0</td>\n",
       "      <td>0.513527</td>\n",
       "      <td>0.512050</td>\n",
       "      <td>0.419222</td>\n",
       "      <td>0.099565</td>\n",
       "      <td>0.609974</td>\n",
       "      <td>0.616573</td>\n",
       "      <td>0.164482</td>\n",
       "      <td>0.033113</td>\n",
       "      <td>0.005737</td>\n",
       "      <td>...</td>\n",
       "      <td>12</td>\n",
       "      <td>11</td>\n",
       "      <td>14</td>\n",
       "      <td>14</td>\n",
       "      <td>12</td>\n",
       "      <td>9</td>\n",
       "      <td>12</td>\n",
       "      <td>14</td>\n",
       "      <td>13</td>\n",
       "      <td>11</td>\n",
       "    </tr>\n",
       "    <tr>\n",
       "      <th>Romain Hamouma</th>\n",
       "      <td>0</td>\n",
       "      <td>0.437854</td>\n",
       "      <td>0.242553</td>\n",
       "      <td>0.134042</td>\n",
       "      <td>0.106117</td>\n",
       "      <td>0.216704</td>\n",
       "      <td>0.219048</td>\n",
       "      <td>0.070122</td>\n",
       "      <td>0.000000</td>\n",
       "      <td>0.000000</td>\n",
       "      <td>...</td>\n",
       "      <td>13</td>\n",
       "      <td>6</td>\n",
       "      <td>14</td>\n",
       "      <td>14</td>\n",
       "      <td>12</td>\n",
       "      <td>8</td>\n",
       "      <td>13</td>\n",
       "      <td>13</td>\n",
       "      <td>12</td>\n",
       "      <td>12</td>\n",
       "    </tr>\n",
       "    <tr>\n",
       "      <th>Youssouf Koné</th>\n",
       "      <td>0</td>\n",
       "      <td>0.580240</td>\n",
       "      <td>1.000000</td>\n",
       "      <td>1.000000</td>\n",
       "      <td>1.000000</td>\n",
       "      <td>0.340354</td>\n",
       "      <td>0.000000</td>\n",
       "      <td>0.495600</td>\n",
       "      <td>0.674216</td>\n",
       "      <td>0.201548</td>\n",
       "      <td>...</td>\n",
       "      <td>14</td>\n",
       "      <td>10</td>\n",
       "      <td>14</td>\n",
       "      <td>12</td>\n",
       "      <td>12</td>\n",
       "      <td>9</td>\n",
       "      <td>14</td>\n",
       "      <td>14</td>\n",
       "      <td>15</td>\n",
       "      <td>13</td>\n",
       "    </tr>\n",
       "    <tr>\n",
       "      <th>Thomas Mangani</th>\n",
       "      <td>0</td>\n",
       "      <td>0.975392</td>\n",
       "      <td>0.785929</td>\n",
       "      <td>0.615300</td>\n",
       "      <td>0.401151</td>\n",
       "      <td>0.877716</td>\n",
       "      <td>0.266163</td>\n",
       "      <td>0.681635</td>\n",
       "      <td>0.298842</td>\n",
       "      <td>0.131353</td>\n",
       "      <td>...</td>\n",
       "      <td>17</td>\n",
       "      <td>13</td>\n",
       "      <td>12</td>\n",
       "      <td>11</td>\n",
       "      <td>14</td>\n",
       "      <td>12</td>\n",
       "      <td>14</td>\n",
       "      <td>11</td>\n",
       "      <td>15</td>\n",
       "      <td>14</td>\n",
       "    </tr>\n",
       "    <tr>\n",
       "      <th>Riad Nouri</th>\n",
       "      <td>0</td>\n",
       "      <td>0.279058</td>\n",
       "      <td>0.405789</td>\n",
       "      <td>0.341717</td>\n",
       "      <td>0.157807</td>\n",
       "      <td>0.460373</td>\n",
       "      <td>0.279212</td>\n",
       "      <td>0.335181</td>\n",
       "      <td>0.094644</td>\n",
       "      <td>0.024060</td>\n",
       "      <td>...</td>\n",
       "      <td>12</td>\n",
       "      <td>6</td>\n",
       "      <td>13</td>\n",
       "      <td>15</td>\n",
       "      <td>12</td>\n",
       "      <td>8</td>\n",
       "      <td>14</td>\n",
       "      <td>13</td>\n",
       "      <td>12</td>\n",
       "      <td>11</td>\n",
       "    </tr>\n",
       "  </tbody>\n",
       "</table>\n",
       "<p>5 rows × 79 columns</p>\n",
       "</div>"
      ],
      "text/plain": [
       "                team_cluster  defense_Blocks_Blocks  defense_Tackles_Tkl  \\\n",
       "Name                                                                       \n",
       "Youcef Belaïli             0               0.513527             0.512050   \n",
       "Romain Hamouma             0               0.437854             0.242553   \n",
       "Youssouf Koné              0               0.580240             1.000000   \n",
       "Thomas Mangani             0               0.975392             0.785929   \n",
       "Riad Nouri                 0               0.279058             0.405789   \n",
       "\n",
       "                defense_Tackles_TklW  defense_Tackles_Def 3rd  \\\n",
       "Name                                                            \n",
       "Youcef Belaïli              0.419222                 0.099565   \n",
       "Romain Hamouma              0.134042                 0.106117   \n",
       "Youssouf Koné               1.000000                 1.000000   \n",
       "Thomas Mangani              0.615300                 0.401151   \n",
       "Riad Nouri                  0.341717                 0.157807   \n",
       "\n",
       "                defense_Tackles_Mid 3rd  defense_Tackles_Att 3rd  \\\n",
       "Name                                                               \n",
       "Youcef Belaïli                 0.609974                 0.616573   \n",
       "Romain Hamouma                 0.216704                 0.219048   \n",
       "Youssouf Koné                  0.340354                 0.000000   \n",
       "Thomas Mangani                 0.877716                 0.266163   \n",
       "Riad Nouri                     0.460373                 0.279212   \n",
       "\n",
       "                defense__Int  defense__Clr  possession_Touches_Def Pen  ...  \\\n",
       "Name                                                                    ...   \n",
       "Youcef Belaïli      0.164482      0.033113                    0.005737  ...   \n",
       "Romain Hamouma      0.070122      0.000000                    0.000000  ...   \n",
       "Youssouf Koné       0.495600      0.674216                    0.201548  ...   \n",
       "Thomas Mangani      0.681635      0.298842                    0.131353  ...   \n",
       "Riad Nouri          0.335181      0.094644                    0.024060  ...   \n",
       "\n",
       "                Work Rate  Positioning  Acceleration  Agility  Balance  \\\n",
       "Name                                                                     \n",
       "Youcef Belaïli         12           11            14       14       12   \n",
       "Romain Hamouma         13            6            14       14       12   \n",
       "Youssouf Koné          14           10            14       12       12   \n",
       "Thomas Mangani         17           13            12       11       14   \n",
       "Riad Nouri             12            6            13       15       12   \n",
       "\n",
       "                Jumping Reach  Natural Fitness  Pace  Stamina  Strength  \n",
       "Name                                                                     \n",
       "Youcef Belaïli              9               12    14       13        11  \n",
       "Romain Hamouma              8               13    13       12        12  \n",
       "Youssouf Koné               9               14    14       15        13  \n",
       "Thomas Mangani             12               14    11       15        14  \n",
       "Riad Nouri                  8               14    13       12        11  \n",
       "\n",
       "[5 rows x 79 columns]"
      ]
     },
     "execution_count": 5,
     "metadata": {},
     "output_type": "execute_result"
    }
   ],
   "source": [
    "combined_data.head()"
   ]
  },
  {
   "cell_type": "code",
   "execution_count": 6,
   "metadata": {},
   "outputs": [],
   "source": [
    "X = combined_data[all_stats_columns]\n",
    "y = combined_data[predict_columns]\n",
    "\n",
    "import numpy as np\n",
    "import pandas as pd\n",
    "from sklearn.model_selection import train_test_split\n",
    "from sklearn.metrics import mean_squared_error\n",
    "\n",
    "# Split the dataset into training and testing sets\n",
    "X_train, X_test, y_train, y_test = train_test_split(X, y, test_size=0.2, random_state=42)"
   ]
  },
  {
   "cell_type": "markdown",
   "metadata": {},
   "source": [
    "## MVP: Ordinary Least Squares"
   ]
  },
  {
   "cell_type": "code",
   "execution_count": 7,
   "metadata": {},
   "outputs": [
    {
     "name": "stdout",
     "output_type": "stream",
     "text": [
      "R^2 (train): 0.019884116667173417\n",
      "R^2 (test): 0.014564521128109529\n"
     ]
    }
   ],
   "source": [
    "from sklearn.linear_model import ElasticNet\n",
    "\n",
    "# Initialize the model\n",
    "eln = ElasticNet(random_state=42)\n",
    "\n",
    "# Fit the model\n",
    "eln.fit(X_train, y_train)\n",
    "\n",
    "# Evaluate the model\n",
    "print(f'R^2 (train): {eln.score(X_train, y_train)}')\n",
    "print(f'R^2 (test): {eln.score(X_test, y_test)}')"
   ]
  },
  {
   "cell_type": "markdown",
   "metadata": {},
   "source": [
    "## MVP: Partial Least Squares"
   ]
  },
  {
   "cell_type": "code",
   "execution_count": 8,
   "metadata": {},
   "outputs": [
    {
     "name": "stdout",
     "output_type": "stream",
     "text": [
      "R^2 (train): 0.2597108582512673\n",
      "R^2 (test): 0.26583996352692524\n"
     ]
    }
   ],
   "source": [
    "from sklearn.cross_decomposition import PLSRegression\n",
    "\n",
    "# Initialize the model\n",
    "pls = PLSRegression()\n",
    "\n",
    "# Fit the model\n",
    "pls.fit(X_train, y_train)\n",
    "\n",
    "# Evaluate the model\n",
    "print(f'R^2 (train): {pls.score(X_train, y_train)}')\n",
    "print(f'R^2 (test): {pls.score(X_test, y_test)}')"
   ]
  },
  {
   "cell_type": "markdown",
   "metadata": {},
   "source": [
    "## MVP: Random Forest"
   ]
  },
  {
   "cell_type": "code",
   "execution_count": 9,
   "metadata": {},
   "outputs": [
    {
     "name": "stdout",
     "output_type": "stream",
     "text": [
      "R^2 (train): 0.3872972969326605\n",
      "R^2 (test): 0.3241763244983862\n"
     ]
    }
   ],
   "source": [
    "from sklearn.ensemble import RandomForestRegressor\n",
    "\n",
    "# Initialize the model\n",
    "rfr = RandomForestRegressor(n_estimators=100, max_depth=5, min_samples_split=5, random_state=42)\n",
    "\n",
    "# Fit the model\n",
    "rfr.fit(X_train, y_train)\n",
    "\n",
    "# Evaluate the model\n",
    "print(f'R^2 (train): {rfr.score(X_train, y_train)}')\n",
    "print(f'R^2 (test): {rfr.score(X_test, y_test)}')"
   ]
  },
  {
   "cell_type": "markdown",
   "metadata": {},
   "source": [
    "## MVP: Extra Trees"
   ]
  },
  {
   "cell_type": "code",
   "execution_count": 10,
   "metadata": {},
   "outputs": [
    {
     "name": "stdout",
     "output_type": "stream",
     "text": [
      "R^2 (train): 0.3670806134741569\n",
      "R^2 (test): 0.32024312313041137\n"
     ]
    }
   ],
   "source": [
    "from sklearn.ensemble import ExtraTreesRegressor\n",
    "\n",
    "# Initialize the model\n",
    "etr = ExtraTreesRegressor(n_estimators=100, max_depth=5, min_samples_split=5, random_state=42)\n",
    "\n",
    "# Fit the model\n",
    "etr.fit(X_train, y_train)\n",
    "\n",
    "# Evaluate the model\n",
    "print(f'R^2 (train): {etr.score(X_train, y_train)}')\n",
    "print(f'R^2 (test): {etr.score(X_test, y_test)}')"
   ]
  },
  {
   "cell_type": "markdown",
   "metadata": {},
   "source": [
    "## MVP: MultiOutputRegressor with AdaBoost"
   ]
  },
  {
   "cell_type": "code",
   "execution_count": 11,
   "metadata": {},
   "outputs": [
    {
     "name": "stdout",
     "output_type": "stream",
     "text": [
      "R^2 (train): 0.4037942269583372\n",
      "R^2 (test): 0.3057751037832816\n"
     ]
    }
   ],
   "source": [
    "from sklearn.multioutput import MultiOutputRegressor\n",
    "from sklearn.ensemble import AdaBoostRegressor\n",
    "\n",
    "# Initialize the model\n",
    "abr = AdaBoostRegressor(n_estimators=10)\n",
    "\n",
    "# Fit the model\n",
    "mor = MultiOutputRegressor(estimator=abr).fit(X_train, y_train)\n",
    "\n",
    "# Evaluate the model\n",
    "print(f'R^2 (train): {mor.score(X_train, y_train)}')\n",
    "print(f'R^2 (test): {mor.score(X_test, y_test)}')"
   ]
  },
  {
   "cell_type": "markdown",
   "metadata": {},
   "source": [
    "## MVP: RegressorChain with AdaBoost"
   ]
  },
  {
   "cell_type": "code",
   "execution_count": 12,
   "metadata": {},
   "outputs": [
    {
     "name": "stdout",
     "output_type": "stream",
     "text": [
      "R^2 (train): 0.32216127341058115\n",
      "R^2 (test): 0.27791901765062765\n"
     ]
    }
   ],
   "source": [
    "from sklearn.multioutput import RegressorChain\n",
    "from sklearn.ensemble import AdaBoostRegressor\n",
    "\n",
    "# Initialize the model\n",
    "abr = AdaBoostRegressor(n_estimators=10)\n",
    "\n",
    "# Fit the model\n",
    "rch = RegressorChain(base_estimator=abr).fit(X_train, y_train)\n",
    "\n",
    "# Evaluate the model\n",
    "print(f'R^2 (train): {rch.score(X_train, y_train)}')\n",
    "print(f'R^2 (test): {rch.score(X_test, y_test)}')"
   ]
  },
  {
   "cell_type": "markdown",
   "metadata": {},
   "source": [
    "## MVP: simple NN"
   ]
  },
  {
   "cell_type": "code",
   "execution_count": 13,
   "metadata": {},
   "outputs": [
    {
     "name": "stdout",
     "output_type": "stream",
     "text": [
      "R^2 (train): 0.29581963187701665\n",
      "R^2 (test): 0.28175369445085185\n"
     ]
    }
   ],
   "source": [
    "from sklearn.neural_network import MLPRegressor\n",
    "\n",
    "# Initialize the model\n",
    "mlp = MLPRegressor(hidden_layer_sizes=(25,50,25,), activation='relu', solver='adam', max_iter=500, random_state=42)\n",
    "\n",
    "# Fit the model\n",
    "mlp.fit(X_train, y_train)\n",
    "\n",
    "# Evaluate the model\n",
    "print(f'R^2 (train): {mlp.score(X_train, y_train)}')\n",
    "print(f'R^2 (test): {mlp.score(X_test, y_test)}')"
   ]
  },
  {
   "cell_type": "markdown",
   "metadata": {},
   "source": [
    "## Playground"
   ]
  },
  {
   "cell_type": "code",
   "execution_count": 14,
   "metadata": {},
   "outputs": [],
   "source": [
    "import matplotlib.pyplot as plt\n",
    "import seaborn as sns\n",
    "from modules.fm_functions import *\n",
    "import warnings\n",
    "\n",
    "warnings.filterwarnings(action='ignore')"
   ]
  },
  {
   "cell_type": "code",
   "execution_count": 15,
   "metadata": {},
   "outputs": [],
   "source": [
    "def smith_waterman(s1, s2, match_score=2, gap_cost=1):\n",
    "    \"\"\"\n",
    "    Compute the Smith-Waterman score between two strings.\n",
    "    \n",
    "    :param s1: First string.\n",
    "    :param s2: Second string.\n",
    "    :param match_score: Score for character match.\n",
    "    :param gap_cost: Cost for gap (insertion/deletion).\n",
    "    :return: The Smith-Waterman score for the best local alignment.\n",
    "    \"\"\"\n",
    "    m, n = len(s1), len(s2)\n",
    "    score_matrix = [[0] * (n + 1) for _ in range(m + 1)]\n",
    "    max_score = 0\n",
    "\n",
    "    for i in range(1, m + 1):\n",
    "        for j in range(1, n + 1):\n",
    "            match = score_matrix[i - 1][j - 1] + (match_score if s1[i - 1] == s2[j - 1] else -match_score)\n",
    "            delete = score_matrix[i - 1][j] - gap_cost\n",
    "            insert = score_matrix[i][j - 1] - gap_cost\n",
    "            score_matrix[i][j] = max(0, match, delete, insert)\n",
    "            max_score = max(max_score, score_matrix[i][j])\n",
    "\n",
    "    return max_score\n",
    "\n",
    "def find_most_similar_strings(target, strings, n=5):\n",
    "    \"\"\"\n",
    "    Find the n most similar strings to the target string from a list of strings using Smith-Waterman score.\n",
    "    \n",
    "    :param target: The target string to compare against.\n",
    "    :param strings: A list of strings to search within.\n",
    "    :param n: The number of most similar strings to return. Default is 5.\n",
    "    :return: A list of the n most similar strings.\n",
    "    \"\"\"\n",
    "    # Compute the Smith-Waterman score for each string in the list\n",
    "    scores = [(string, smith_waterman(target, string)) for string in strings]\n",
    "    \n",
    "    # Find the n strings with the highest scores\n",
    "    most_similar = sorted(scores, key=lambda x: x[1], reverse=True)[:n]\n",
    "    \n",
    "    # Extract and return only the strings (not the scores)\n",
    "    return [string for string, score in most_similar]"
   ]
  },
  {
   "cell_type": "code",
   "execution_count": 23,
   "metadata": {},
   "outputs": [
    {
     "data": {
      "text/plain": [
       "['Rodrigo Ely',\n",
       " 'Rodrigo De Paul',\n",
       " 'Rodrigo Riquelme',\n",
       " 'Rodrigo',\n",
       " 'Rodrigo Battaglia',\n",
       " 'Rodri',\n",
       " 'Rodrigo Zalazar',\n",
       " 'Rodrigo Bentancur',\n",
       " 'Rodrigo Becão',\n",
       " 'Guido Rodríguez']"
      ]
     },
     "execution_count": 23,
     "metadata": {},
     "output_type": "execute_result"
    }
   ],
   "source": [
    "find_most_similar_strings('Rodri', X.index, n=10)"
   ]
  },
  {
   "cell_type": "code",
   "execution_count": 25,
   "metadata": {},
   "outputs": [
    {
     "data": {
      "image/png": "[encoded data removed]",
      "text/plain": [
       "<Figure size 500x500 with 1 Axes>"
      ]
     },
     "metadata": {},
     "output_type": "display_data"
    }
   ],
   "source": [
    "test_name = 'Rodri'\n",
    "\n",
    "model = etr\n",
    "\n",
    "predictions = model.predict(X.loc[[test_name]].values)\n",
    "\n",
    "test = pd.Series(predictions[0], index=y.columns)\n",
    "test['Name'] = test_name\n",
    "test = calculate_skill_nodes(test)\n",
    "plot_fm_radar(test, gk=False)"
   ]
  },
  {
   "cell_type": "code",
   "execution_count": 26,
   "metadata": {},
   "outputs": [
    {
     "data": {
      "image/png": "[encoded data removed]",
      "text/plain": [
       "<Figure size 500x500 with 1 Axes>"
      ]
     },
     "metadata": {},
     "output_type": "display_data"
    }
   ],
   "source": [
    "real = y.loc[[test_name]].values\n",
    "\n",
    "test = pd.Series(real[0], index=y.columns)\n",
    "test['Name'] = test_name\n",
    "test = calculate_skill_nodes(test)\n",
    "plot_fm_radar(test, gk=False)"
   ]
  },
  {
   "cell_type": "code",
   "execution_count": 27,
   "metadata": {},
   "outputs": [
    {
     "data": {
      "text/html": [
       "<div>\n",
       "<style scoped>\n",
       "    .dataframe tbody tr th:only-of-type {\n",
       "        vertical-align: middle;\n",
       "    }\n",
       "\n",
       "    .dataframe tbody tr th {\n",
       "        vertical-align: top;\n",
       "    }\n",
       "\n",
       "    .dataframe thead th {\n",
       "        text-align: right;\n",
       "    }\n",
       "</style>\n",
       "<table border=\"1\" class=\"dataframe\">\n",
       "  <thead>\n",
       "    <tr style=\"text-align: right;\">\n",
       "      <th></th>\n",
       "      <th>prediction</th>\n",
       "      <th>real</th>\n",
       "    </tr>\n",
       "  </thead>\n",
       "  <tbody>\n",
       "    <tr>\n",
       "      <th>Corners</th>\n",
       "      <td>8.497640</td>\n",
       "      <td>7</td>\n",
       "    </tr>\n",
       "    <tr>\n",
       "      <th>Crossing</th>\n",
       "      <td>10.651842</td>\n",
       "      <td>8</td>\n",
       "    </tr>\n",
       "    <tr>\n",
       "      <th>Dribbling</th>\n",
       "      <td>11.773497</td>\n",
       "      <td>13</td>\n",
       "    </tr>\n",
       "    <tr>\n",
       "      <th>Finishing</th>\n",
       "      <td>8.868264</td>\n",
       "      <td>9</td>\n",
       "    </tr>\n",
       "    <tr>\n",
       "      <th>First Touch</th>\n",
       "      <td>13.297177</td>\n",
       "      <td>15</td>\n",
       "    </tr>\n",
       "    <tr>\n",
       "      <th>Free Kick Taking</th>\n",
       "      <td>8.688413</td>\n",
       "      <td>8</td>\n",
       "    </tr>\n",
       "    <tr>\n",
       "      <th>Heading</th>\n",
       "      <td>11.150465</td>\n",
       "      <td>13</td>\n",
       "    </tr>\n",
       "    <tr>\n",
       "      <th>Long Shots</th>\n",
       "      <td>10.559859</td>\n",
       "      <td>14</td>\n",
       "    </tr>\n",
       "    <tr>\n",
       "      <th>Long Throws</th>\n",
       "      <td>8.488393</td>\n",
       "      <td>8</td>\n",
       "    </tr>\n",
       "    <tr>\n",
       "      <th>Marking</th>\n",
       "      <td>12.147098</td>\n",
       "      <td>12</td>\n",
       "    </tr>\n",
       "    <tr>\n",
       "      <th>Passing</th>\n",
       "      <td>13.716970</td>\n",
       "      <td>15</td>\n",
       "    </tr>\n",
       "    <tr>\n",
       "      <th>Penalty Taking</th>\n",
       "      <td>9.572952</td>\n",
       "      <td>8</td>\n",
       "    </tr>\n",
       "    <tr>\n",
       "      <th>Tackling</th>\n",
       "      <td>13.762477</td>\n",
       "      <td>17</td>\n",
       "    </tr>\n",
       "    <tr>\n",
       "      <th>Technique</th>\n",
       "      <td>13.369176</td>\n",
       "      <td>14</td>\n",
       "    </tr>\n",
       "    <tr>\n",
       "      <th>Aggressiion</th>\n",
       "      <td>13.131665</td>\n",
       "      <td>13</td>\n",
       "    </tr>\n",
       "    <tr>\n",
       "      <th>Anticipation</th>\n",
       "      <td>13.924321</td>\n",
       "      <td>18</td>\n",
       "    </tr>\n",
       "    <tr>\n",
       "      <th>Bravery</th>\n",
       "      <td>13.963446</td>\n",
       "      <td>15</td>\n",
       "    </tr>\n",
       "    <tr>\n",
       "      <th>Composure</th>\n",
       "      <td>13.507708</td>\n",
       "      <td>17</td>\n",
       "    </tr>\n",
       "    <tr>\n",
       "      <th>Concentration</th>\n",
       "      <td>13.230782</td>\n",
       "      <td>16</td>\n",
       "    </tr>\n",
       "    <tr>\n",
       "      <th>Vision</th>\n",
       "      <td>12.713759</td>\n",
       "      <td>14</td>\n",
       "    </tr>\n",
       "    <tr>\n",
       "      <th>Decision</th>\n",
       "      <td>13.268195</td>\n",
       "      <td>18</td>\n",
       "    </tr>\n",
       "    <tr>\n",
       "      <th>Determination</th>\n",
       "      <td>14.349390</td>\n",
       "      <td>13</td>\n",
       "    </tr>\n",
       "    <tr>\n",
       "      <th>Flair</th>\n",
       "      <td>10.541538</td>\n",
       "      <td>9</td>\n",
       "    </tr>\n",
       "    <tr>\n",
       "      <th>Leadership</th>\n",
       "      <td>11.083308</td>\n",
       "      <td>11</td>\n",
       "    </tr>\n",
       "    <tr>\n",
       "      <th>Off The Ball</th>\n",
       "      <td>12.373469</td>\n",
       "      <td>13</td>\n",
       "    </tr>\n",
       "    <tr>\n",
       "      <th>Teamwork</th>\n",
       "      <td>14.821719</td>\n",
       "      <td>16</td>\n",
       "    </tr>\n",
       "    <tr>\n",
       "      <th>Work Rate</th>\n",
       "      <td>14.994191</td>\n",
       "      <td>16</td>\n",
       "    </tr>\n",
       "    <tr>\n",
       "      <th>Positioning</th>\n",
       "      <td>13.338548</td>\n",
       "      <td>17</td>\n",
       "    </tr>\n",
       "    <tr>\n",
       "      <th>Acceleration</th>\n",
       "      <td>12.892707</td>\n",
       "      <td>14</td>\n",
       "    </tr>\n",
       "    <tr>\n",
       "      <th>Agility</th>\n",
       "      <td>12.654935</td>\n",
       "      <td>13</td>\n",
       "    </tr>\n",
       "    <tr>\n",
       "      <th>Balance</th>\n",
       "      <td>13.270595</td>\n",
       "      <td>12</td>\n",
       "    </tr>\n",
       "    <tr>\n",
       "      <th>Jumping Reach</th>\n",
       "      <td>11.765098</td>\n",
       "      <td>17</td>\n",
       "    </tr>\n",
       "    <tr>\n",
       "      <th>Natural Fitness</th>\n",
       "      <td>14.299867</td>\n",
       "      <td>16</td>\n",
       "    </tr>\n",
       "    <tr>\n",
       "      <th>Pace</th>\n",
       "      <td>13.070784</td>\n",
       "      <td>13</td>\n",
       "    </tr>\n",
       "    <tr>\n",
       "      <th>Stamina</th>\n",
       "      <td>14.731624</td>\n",
       "      <td>17</td>\n",
       "    </tr>\n",
       "    <tr>\n",
       "      <th>Strength</th>\n",
       "      <td>12.941110</td>\n",
       "      <td>16</td>\n",
       "    </tr>\n",
       "  </tbody>\n",
       "</table>\n",
       "</div>"
      ],
      "text/plain": [
       "                  prediction  real\n",
       "Corners             8.497640     7\n",
       "Crossing           10.651842     8\n",
       "Dribbling          11.773497    13\n",
       "Finishing           8.868264     9\n",
       "First Touch        13.297177    15\n",
       "Free Kick Taking    8.688413     8\n",
       "Heading            11.150465    13\n",
       "Long Shots         10.559859    14\n",
       "Long Throws         8.488393     8\n",
       "Marking            12.147098    12\n",
       "Passing            13.716970    15\n",
       "Penalty Taking      9.572952     8\n",
       "Tackling           13.762477    17\n",
       "Technique          13.369176    14\n",
       "Aggressiion        13.131665    13\n",
       "Anticipation       13.924321    18\n",
       "Bravery            13.963446    15\n",
       "Composure          13.507708    17\n",
       "Concentration      13.230782    16\n",
       "Vision             12.713759    14\n",
       "Decision           13.268195    18\n",
       "Determination      14.349390    13\n",
       "Flair              10.541538     9\n",
       "Leadership         11.083308    11\n",
       "Off The Ball       12.373469    13\n",
       "Teamwork           14.821719    16\n",
       "Work Rate          14.994191    16\n",
       "Positioning        13.338548    17\n",
       "Acceleration       12.892707    14\n",
       "Agility            12.654935    13\n",
       "Balance            13.270595    12\n",
       "Jumping Reach      11.765098    17\n",
       "Natural Fitness    14.299867    16\n",
       "Pace               13.070784    13\n",
       "Stamina            14.731624    17\n",
       "Strength           12.941110    16"
      ]
     },
     "execution_count": 27,
     "metadata": {},
     "output_type": "execute_result"
    }
   ],
   "source": [
    "pd.DataFrame({'prediction':predictions[0],\n",
    "              'real':real[0]},\n",
    "              index=predict_columns)"
   ]
  },
  {
   "cell_type": "code",
   "execution_count": 28,
   "metadata": {},
   "outputs": [
    {
     "name": "stdout",
     "output_type": "stream",
     "text": [
      "Prediction mean : 12.372582838850647\n",
      "Real mean : 13.472222222222221\n"
     ]
    }
   ],
   "source": [
    "print(f'Prediction mean : {predictions[0].mean()}')\n",
    "print(f'Real mean : {real[0].mean()}')"
   ]
  },
  {
   "cell_type": "code",
   "execution_count": 29,
   "metadata": {},
   "outputs": [
    {
     "data": {
      "text/plain": [
       "Index(['Ross Barkley', 'Edin Džeko', 'Alexandre Lacazette', 'Patrick Ciurria',\n",
       "       'Mateo Kovačić', 'Alex Král', 'Youssouf Sabaly', 'Jean-Philippe Mateta',\n",
       "       'Manuel Locatelli', 'Amin Sarr',\n",
       "       ...\n",
       "       'Sergio Escudero', 'Víctor Chust', 'Georginio Wijnaldum',\n",
       "       'Carlos Gruezo', 'Daniele Verde', 'Christopher Nkunku', 'Ferland Mendy',\n",
       "       'Julian Ryerson', 'Mattia Caldara', 'Tetê'],\n",
       "      dtype='object', name='Name', length=303)"
      ]
     },
     "execution_count": 29,
     "metadata": {},
     "output_type": "execute_result"
    }
   ],
   "source": [
    "X_test.index"
   ]
  },
  {
   "cell_type": "code",
   "execution_count": null,
   "metadata": {},
   "outputs": [],
   "source": []
  },
  {
   "cell_type": "code",
   "execution_count": null,
   "metadata": {},
   "outputs": [],
   "source": []
  }
 ],
 "metadata": {
  "kernelspec": {
   "display_name": "fbref",
   "language": "python",
   "name": "python3"
  },
  "language_info": {
   "codemirror_mode": {
    "name": "ipython",
    "version": 3
   },
   "file_extension": ".py",
   "mimetype": "text/x-python",
   "name": "python",
   "nbconvert_exporter": "python",
   "pygments_lexer": "ipython3",
   "version": "3.12.0"
  }
 },
 "nbformat": 4,
 "nbformat_minor": 2
}
