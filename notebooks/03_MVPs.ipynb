{
 "cells": [
  {
   "cell_type": "markdown",
   "metadata": {},
   "source": [
    "# 03. MVPs\n",
    "A number of simple models to test initial assumptions"
   ]
  },
  {
   "cell_type": "code",
   "execution_count": 30,
   "metadata": {},
   "outputs": [],
   "source": [
    "# change wd to repo home\n",
    "import os\n",
    "if os.getcwd().split('\\\\')[-1] == 'notebooks':\n",
    "    os.chdir('..')"
   ]
  },
  {
   "cell_type": "code",
   "execution_count": 31,
   "metadata": {},
   "outputs": [],
   "source": [
    "import matplotlib.pyplot as plt\n",
    "import seaborn as sns"
   ]
  },
  {
   "cell_type": "code",
   "execution_count": 32,
   "metadata": {},
   "outputs": [],
   "source": [
    "from modules.fm_functions import *\n",
    "predict_columns = FM_columns[2:]"
   ]
  },
  {
   "cell_type": "markdown",
   "metadata": {},
   "source": [
    "Load data"
   ]
  },
  {
   "cell_type": "code",
   "execution_count": 33,
   "metadata": {},
   "outputs": [],
   "source": [
    "import pandas as pd\n",
    "combined_data = pd.read_csv('./data/combined_data.csv', index_col='Name').iloc[:, 1:].dropna(axis=0)"
   ]
  },
  {
   "cell_type": "code",
   "execution_count": 34,
   "metadata": {},
   "outputs": [
    {
     "data": {
      "text/html": [
       "<div>\n",
       "<style scoped>\n",
       "    .dataframe tbody tr th:only-of-type {\n",
       "        vertical-align: middle;\n",
       "    }\n",
       "\n",
       "    .dataframe tbody tr th {\n",
       "        vertical-align: top;\n",
       "    }\n",
       "\n",
       "    .dataframe thead th {\n",
       "        text-align: right;\n",
       "    }\n",
       "</style>\n",
       "<table border=\"1\" class=\"dataframe\">\n",
       "  <thead>\n",
       "    <tr style=\"text-align: right;\">\n",
       "      <th></th>\n",
       "      <th>team_cluster</th>\n",
       "      <th>defense_Blocks_Blocks</th>\n",
       "      <th>defense_Tackles_Tkl</th>\n",
       "      <th>defense_Tackles_TklW</th>\n",
       "      <th>defense_Tackles_Def 3rd</th>\n",
       "      <th>defense_Tackles_Mid 3rd</th>\n",
       "      <th>defense_Tackles_Att 3rd</th>\n",
       "      <th>defense__Int</th>\n",
       "      <th>defense__Clr</th>\n",
       "      <th>possession_Touches_Def Pen</th>\n",
       "      <th>...</th>\n",
       "      <th>Work Rate</th>\n",
       "      <th>Positioning</th>\n",
       "      <th>Acceleration</th>\n",
       "      <th>Agility</th>\n",
       "      <th>Balance</th>\n",
       "      <th>Jumping Reach</th>\n",
       "      <th>Natural Fitness</th>\n",
       "      <th>Pace</th>\n",
       "      <th>Stamina</th>\n",
       "      <th>Strength</th>\n",
       "    </tr>\n",
       "    <tr>\n",
       "      <th>Name</th>\n",
       "      <th></th>\n",
       "      <th></th>\n",
       "      <th></th>\n",
       "      <th></th>\n",
       "      <th></th>\n",
       "      <th></th>\n",
       "      <th></th>\n",
       "      <th></th>\n",
       "      <th></th>\n",
       "      <th></th>\n",
       "      <th></th>\n",
       "      <th></th>\n",
       "      <th></th>\n",
       "      <th></th>\n",
       "      <th></th>\n",
       "      <th></th>\n",
       "      <th></th>\n",
       "      <th></th>\n",
       "      <th></th>\n",
       "      <th></th>\n",
       "      <th></th>\n",
       "    </tr>\n",
       "  </thead>\n",
       "  <tbody>\n",
       "    <tr>\n",
       "      <th>Youcef Belaïli</th>\n",
       "      <td>1</td>\n",
       "      <td>0.513527</td>\n",
       "      <td>0.512050</td>\n",
       "      <td>0.419222</td>\n",
       "      <td>0.099565</td>\n",
       "      <td>0.609974</td>\n",
       "      <td>0.616573</td>\n",
       "      <td>0.164482</td>\n",
       "      <td>0.033113</td>\n",
       "      <td>0.005737</td>\n",
       "      <td>...</td>\n",
       "      <td>12</td>\n",
       "      <td>11</td>\n",
       "      <td>14</td>\n",
       "      <td>14</td>\n",
       "      <td>12</td>\n",
       "      <td>9</td>\n",
       "      <td>12</td>\n",
       "      <td>14</td>\n",
       "      <td>13</td>\n",
       "      <td>11</td>\n",
       "    </tr>\n",
       "    <tr>\n",
       "      <th>Romain Hamouma</th>\n",
       "      <td>1</td>\n",
       "      <td>0.437854</td>\n",
       "      <td>0.242553</td>\n",
       "      <td>0.134042</td>\n",
       "      <td>0.106117</td>\n",
       "      <td>0.216704</td>\n",
       "      <td>0.219048</td>\n",
       "      <td>0.070122</td>\n",
       "      <td>0.000000</td>\n",
       "      <td>0.000000</td>\n",
       "      <td>...</td>\n",
       "      <td>13</td>\n",
       "      <td>6</td>\n",
       "      <td>14</td>\n",
       "      <td>14</td>\n",
       "      <td>12</td>\n",
       "      <td>8</td>\n",
       "      <td>13</td>\n",
       "      <td>13</td>\n",
       "      <td>12</td>\n",
       "      <td>12</td>\n",
       "    </tr>\n",
       "    <tr>\n",
       "      <th>Youssouf Koné</th>\n",
       "      <td>1</td>\n",
       "      <td>0.580240</td>\n",
       "      <td>1.000000</td>\n",
       "      <td>1.000000</td>\n",
       "      <td>1.000000</td>\n",
       "      <td>0.340354</td>\n",
       "      <td>0.000000</td>\n",
       "      <td>0.495600</td>\n",
       "      <td>0.674216</td>\n",
       "      <td>0.201548</td>\n",
       "      <td>...</td>\n",
       "      <td>14</td>\n",
       "      <td>10</td>\n",
       "      <td>14</td>\n",
       "      <td>12</td>\n",
       "      <td>12</td>\n",
       "      <td>9</td>\n",
       "      <td>14</td>\n",
       "      <td>14</td>\n",
       "      <td>15</td>\n",
       "      <td>13</td>\n",
       "    </tr>\n",
       "    <tr>\n",
       "      <th>Thomas Mangani</th>\n",
       "      <td>1</td>\n",
       "      <td>0.975392</td>\n",
       "      <td>0.785929</td>\n",
       "      <td>0.615300</td>\n",
       "      <td>0.401151</td>\n",
       "      <td>0.877716</td>\n",
       "      <td>0.266163</td>\n",
       "      <td>0.681635</td>\n",
       "      <td>0.298842</td>\n",
       "      <td>0.131353</td>\n",
       "      <td>...</td>\n",
       "      <td>17</td>\n",
       "      <td>13</td>\n",
       "      <td>12</td>\n",
       "      <td>11</td>\n",
       "      <td>14</td>\n",
       "      <td>12</td>\n",
       "      <td>14</td>\n",
       "      <td>11</td>\n",
       "      <td>15</td>\n",
       "      <td>14</td>\n",
       "    </tr>\n",
       "    <tr>\n",
       "      <th>Riad Nouri</th>\n",
       "      <td>1</td>\n",
       "      <td>0.279058</td>\n",
       "      <td>0.405789</td>\n",
       "      <td>0.341717</td>\n",
       "      <td>0.157807</td>\n",
       "      <td>0.460373</td>\n",
       "      <td>0.279212</td>\n",
       "      <td>0.335181</td>\n",
       "      <td>0.094644</td>\n",
       "      <td>0.024060</td>\n",
       "      <td>...</td>\n",
       "      <td>12</td>\n",
       "      <td>6</td>\n",
       "      <td>13</td>\n",
       "      <td>15</td>\n",
       "      <td>12</td>\n",
       "      <td>8</td>\n",
       "      <td>14</td>\n",
       "      <td>13</td>\n",
       "      <td>12</td>\n",
       "      <td>11</td>\n",
       "    </tr>\n",
       "  </tbody>\n",
       "</table>\n",
       "<p>5 rows × 79 columns</p>\n",
       "</div>"
      ],
      "text/plain": [
       "                team_cluster  defense_Blocks_Blocks  defense_Tackles_Tkl  \\\n",
       "Name                                                                       \n",
       "Youcef Belaïli             1               0.513527             0.512050   \n",
       "Romain Hamouma             1               0.437854             0.242553   \n",
       "Youssouf Koné              1               0.580240             1.000000   \n",
       "Thomas Mangani             1               0.975392             0.785929   \n",
       "Riad Nouri                 1               0.279058             0.405789   \n",
       "\n",
       "                defense_Tackles_TklW  defense_Tackles_Def 3rd  \\\n",
       "Name                                                            \n",
       "Youcef Belaïli              0.419222                 0.099565   \n",
       "Romain Hamouma              0.134042                 0.106117   \n",
       "Youssouf Koné               1.000000                 1.000000   \n",
       "Thomas Mangani              0.615300                 0.401151   \n",
       "Riad Nouri                  0.341717                 0.157807   \n",
       "\n",
       "                defense_Tackles_Mid 3rd  defense_Tackles_Att 3rd  \\\n",
       "Name                                                               \n",
       "Youcef Belaïli                 0.609974                 0.616573   \n",
       "Romain Hamouma                 0.216704                 0.219048   \n",
       "Youssouf Koné                  0.340354                 0.000000   \n",
       "Thomas Mangani                 0.877716                 0.266163   \n",
       "Riad Nouri                     0.460373                 0.279212   \n",
       "\n",
       "                defense__Int  defense__Clr  possession_Touches_Def Pen  ...  \\\n",
       "Name                                                                    ...   \n",
       "Youcef Belaïli      0.164482      0.033113                    0.005737  ...   \n",
       "Romain Hamouma      0.070122      0.000000                    0.000000  ...   \n",
       "Youssouf Koné       0.495600      0.674216                    0.201548  ...   \n",
       "Thomas Mangani      0.681635      0.298842                    0.131353  ...   \n",
       "Riad Nouri          0.335181      0.094644                    0.024060  ...   \n",
       "\n",
       "                Work Rate  Positioning  Acceleration  Agility  Balance  \\\n",
       "Name                                                                     \n",
       "Youcef Belaïli         12           11            14       14       12   \n",
       "Romain Hamouma         13            6            14       14       12   \n",
       "Youssouf Koné          14           10            14       12       12   \n",
       "Thomas Mangani         17           13            12       11       14   \n",
       "Riad Nouri             12            6            13       15       12   \n",
       "\n",
       "                Jumping Reach  Natural Fitness  Pace  Stamina  Strength  \n",
       "Name                                                                     \n",
       "Youcef Belaïli              9               12    14       13        11  \n",
       "Romain Hamouma              8               13    13       12        12  \n",
       "Youssouf Koné               9               14    14       15        13  \n",
       "Thomas Mangani             12               14    11       15        14  \n",
       "Riad Nouri                  8               14    13       12        11  \n",
       "\n",
       "[5 rows x 79 columns]"
      ]
     },
     "execution_count": 34,
     "metadata": {},
     "output_type": "execute_result"
    }
   ],
   "source": [
    "combined_data.head()"
   ]
  },
  {
   "cell_type": "code",
   "execution_count": 35,
   "metadata": {},
   "outputs": [],
   "source": [
    "X = combined_data[all_stats_columns]\n",
    "y = combined_data[predict_columns]\n",
    "\n",
    "import numpy as np\n",
    "import pandas as pd\n",
    "from sklearn.model_selection import train_test_split\n",
    "from sklearn.metrics import mean_squared_error\n",
    "\n",
    "# Split the dataset into training and testing sets\n",
    "X_train, X_test, y_train, y_test = train_test_split(X, y, test_size=0.2, random_state=42)"
   ]
  },
  {
   "cell_type": "markdown",
   "metadata": {},
   "source": [
    "## MVP: Ordinary Least Squares"
   ]
  },
  {
   "cell_type": "code",
   "execution_count": 37,
   "metadata": {},
   "outputs": [
    {
     "name": "stdout",
     "output_type": "stream",
     "text": [
      "Elastic net R^2 (train): 0.019766202933834236\n",
      "Elastic net R^2 (test): 0.016714010216370513\n"
     ]
    }
   ],
   "source": [
    "from sklearn.linear_model import ElasticNet\n",
    "\n",
    "# Initialize the model\n",
    "eln = ElasticNet(random_state=42)\n",
    "\n",
    "# Fit the model\n",
    "eln.fit(X_train, y_train)\n",
    "\n",
    "# Evaluate the model\n",
    "print(f'R^2 (train): {eln.score(X_train, y_train)}')\n",
    "print(f'R^2 (test): {eln.score(X_test, y_test)}')"
   ]
  },
  {
   "cell_type": "markdown",
   "metadata": {},
   "source": [
    "## MVP: Partial Least Squares"
   ]
  },
  {
   "cell_type": "code",
   "execution_count": 71,
   "metadata": {},
   "outputs": [
    {
     "name": "stdout",
     "output_type": "stream",
     "text": [
      "Elastic net R^2 (train): 0.25943744482129827\n",
      "Elastic net R^2 (test): 0.2553317779631692\n"
     ]
    }
   ],
   "source": [
    "from sklearn.cross_decomposition import PLSRegression\n",
    "\n",
    "# Initialize the model\n",
    "pls = PLSRegression()\n",
    "\n",
    "# Fit the model\n",
    "pls.fit(X_train, y_train)\n",
    "\n",
    "# Evaluate the model\n",
    "print(f'R^2 (train): {pls.score(X_train, y_train)}')\n",
    "print(f'R^2 (test): {pls.score(X_test, y_test)}')"
   ]
  },
  {
   "cell_type": "markdown",
   "metadata": {},
   "source": [
    "## MVP: Random Forest"
   ]
  },
  {
   "cell_type": "code",
   "execution_count": 80,
   "metadata": {},
   "outputs": [
    {
     "name": "stdout",
     "output_type": "stream",
     "text": [
      "Elastic net R^2 (train): 0.3891584381031748\n",
      "Elastic net R^2 (test): 0.310207344543473\n"
     ]
    }
   ],
   "source": [
    "from sklearn.ensemble import RandomForestRegressor\n",
    "\n",
    "# Initialize the model\n",
    "rfr = RandomForestRegressor(n_estimators=100, max_depth=5, min_samples_split=5, random_state=42)\n",
    "\n",
    "# Fit the model\n",
    "rfr.fit(X_train, y_train)\n",
    "\n",
    "# Evaluate the model\n",
    "print(f'R^2 (train): {rfr.score(X_train, y_train)}')\n",
    "print(f'R^2 (test): {rfr.score(X_test, y_test)}')"
   ]
  },
  {
   "cell_type": "markdown",
   "metadata": {},
   "source": [
    "## MVP: Extra Trees"
   ]
  },
  {
   "cell_type": "code",
   "execution_count": 84,
   "metadata": {},
   "outputs": [
    {
     "name": "stdout",
     "output_type": "stream",
     "text": [
      "Elastic net R^2 (train): 0.36493062827492384\n",
      "Elastic net R^2 (test): 0.3099213115872231\n"
     ]
    }
   ],
   "source": [
    "from sklearn.ensemble import ExtraTreesRegressor\n",
    "\n",
    "# Initialize the model\n",
    "etr = ExtraTreesRegressor(n_estimators=100, max_depth=5, min_samples_split=5, random_state=42)\n",
    "\n",
    "# Fit the model\n",
    "etr.fit(X_train, y_train)\n",
    "\n",
    "# Evaluate the model\n",
    "print(f'R^2 (train): {etr.score(X_train, y_train)}')\n",
    "print(f'R^2 (test): {etr.score(X_test, y_test)}')"
   ]
  },
  {
   "cell_type": "markdown",
   "metadata": {},
   "source": [
    "## MVP: MultiOutputRegressor with AdaBoost"
   ]
  },
  {
   "cell_type": "code",
   "execution_count": 118,
   "metadata": {},
   "outputs": [
    {
     "name": "stdout",
     "output_type": "stream",
     "text": [
      "R^2 (train): 0.4016040496655661\n",
      "R^2 (test): 0.2988448811324658\n"
     ]
    }
   ],
   "source": [
    "from sklearn.multioutput import MultiOutputRegressor\n",
    "from sklearn.ensemble import AdaBoostRegressor\n",
    "\n",
    "# Initialize the model\n",
    "abr = AdaBoostRegressor(n_estimators=10)\n",
    "\n",
    "# Fit the model\n",
    "mor = MultiOutputRegressor(estimator=abr).fit(X_train, y_train)\n",
    "\n",
    "# Evaluate the model\n",
    "print(f'R^2 (train): {mor.score(X_train, y_train)}')\n",
    "print(f'R^2 (test): {mor.score(X_test, y_test)}')"
   ]
  },
  {
   "cell_type": "markdown",
   "metadata": {},
   "source": [
    "## MVP: RegressorChain with AdaBoost"
   ]
  },
  {
   "cell_type": "code",
   "execution_count": 121,
   "metadata": {},
   "outputs": [
    {
     "name": "stdout",
     "output_type": "stream",
     "text": [
      "R^2 (train): 0.30760415439067323\n",
      "R^2 (test): 0.26609346952908713\n"
     ]
    }
   ],
   "source": [
    "from sklearn.multioutput import RegressorChain\n",
    "from sklearn.ensemble import AdaBoostRegressor\n",
    "\n",
    "# Initialize the model\n",
    "abr = AdaBoostRegressor(n_estimators=10)\n",
    "\n",
    "# Fit the model\n",
    "rch = RegressorChain(base_estimator=abr).fit(X_train, y_train)\n",
    "\n",
    "# Evaluate the model\n",
    "print(f'R^2 (train): {rch.score(X_train, y_train)}')\n",
    "print(f'R^2 (test): {rch.score(X_test, y_test)}')"
   ]
  },
  {
   "cell_type": "markdown",
   "metadata": {},
   "source": [
    "## MVP: simple NN"
   ]
  },
  {
   "cell_type": "code",
   "execution_count": 206,
   "metadata": {},
   "outputs": [
    {
     "name": "stdout",
     "output_type": "stream",
     "text": [
      "R^2 (train): 0.3424992862753753\n",
      "R^2 (test): 0.30521780020818123\n"
     ]
    }
   ],
   "source": [
    "from sklearn.neural_network import MLPRegressor\n",
    "\n",
    "# Initialize the model\n",
    "mlp = MLPRegressor(hidden_layer_sizes=(25,50,25,), activation='relu', solver='adam', max_iter=500, random_state=42)\n",
    "\n",
    "# Fit the model\n",
    "mlp.fit(X_train, y_train)\n",
    "\n",
    "# Evaluate the model\n",
    "print(f'R^2 (train): {mlp.score(X_train, y_train)}')\n",
    "print(f'R^2 (test): {mlp.score(X_test, y_test)}')"
   ]
  },
  {
   "cell_type": "markdown",
   "metadata": {},
   "source": [
    "## Playground"
   ]
  },
  {
   "cell_type": "code",
   "execution_count": 207,
   "metadata": {},
   "outputs": [],
   "source": [
    "import matplotlib.pyplot as plt\n",
    "import seaborn as sns\n",
    "from modules.fm_functions import *\n",
    "import warnings\n",
    "\n",
    "warnings.filterwarnings(action='ignore')"
   ]
  },
  {
   "cell_type": "code",
   "execution_count": 208,
   "metadata": {},
   "outputs": [],
   "source": [
    "def smith_waterman(s1, s2, match_score=2, gap_cost=1):\n",
    "    \"\"\"\n",
    "    Compute the Smith-Waterman score between two strings.\n",
    "    \n",
    "    :param s1: First string.\n",
    "    :param s2: Second string.\n",
    "    :param match_score: Score for character match.\n",
    "    :param gap_cost: Cost for gap (insertion/deletion).\n",
    "    :return: The Smith-Waterman score for the best local alignment.\n",
    "    \"\"\"\n",
    "    m, n = len(s1), len(s2)\n",
    "    score_matrix = [[0] * (n + 1) for _ in range(m + 1)]\n",
    "    max_score = 0\n",
    "\n",
    "    for i in range(1, m + 1):\n",
    "        for j in range(1, n + 1):\n",
    "            match = score_matrix[i - 1][j - 1] + (match_score if s1[i - 1] == s2[j - 1] else -match_score)\n",
    "            delete = score_matrix[i - 1][j] - gap_cost\n",
    "            insert = score_matrix[i][j - 1] - gap_cost\n",
    "            score_matrix[i][j] = max(0, match, delete, insert)\n",
    "            max_score = max(max_score, score_matrix[i][j])\n",
    "\n",
    "    return max_score\n",
    "\n",
    "def find_most_similar_strings(target, strings, n=5):\n",
    "    \"\"\"\n",
    "    Find the n most similar strings to the target string from a list of strings using Smith-Waterman score.\n",
    "    \n",
    "    :param target: The target string to compare against.\n",
    "    :param strings: A list of strings to search within.\n",
    "    :param n: The number of most similar strings to return. Default is 5.\n",
    "    :return: A list of the n most similar strings.\n",
    "    \"\"\"\n",
    "    # Compute the Smith-Waterman score for each string in the list\n",
    "    scores = [(string, smith_waterman(target, string)) for string in strings]\n",
    "    \n",
    "    # Find the n strings with the highest scores\n",
    "    most_similar = sorted(scores, key=lambda x: x[1], reverse=True)[:n]\n",
    "    \n",
    "    # Extract and return only the strings (not the scores)\n",
    "    return [string for string, score in most_similar]"
   ]
  },
  {
   "cell_type": "code",
   "execution_count": 209,
   "metadata": {},
   "outputs": [
    {
     "data": {
      "text/plain": [
       "['Enzo Millot',\n",
       " 'Francisco Portillo',\n",
       " 'Romain Del Castillo',\n",
       " 'Joe Willock',\n",
       " 'Jeison Murillo']"
      ]
     },
     "execution_count": 209,
     "metadata": {},
     "output_type": "execute_result"
    }
   ],
   "source": [
    "find_most_similar_strings('millot', X.index)"
   ]
  },
  {
   "cell_type": "code",
   "execution_count": 210,
   "metadata": {},
   "outputs": [
    {
     "data": {
      "image/png": "[encoded data removed]",
      "text/plain": [
       "<Figure size 500x500 with 1 Axes>"
      ]
     },
     "metadata": {},
     "output_type": "display_data"
    }
   ],
   "source": [
    "test_name = 'Enzo Millot'\n",
    "\n",
    "model = mlp\n",
    "\n",
    "predictions = model.predict(X.loc[[test_name]].values)\n",
    "\n",
    "test = pd.Series(predictions[0], index=y.columns)\n",
    "test['Name'] = test_name\n",
    "test = calculate_skill_nodes(test)\n",
    "plot_fm_radar(test, gk=False)"
   ]
  },
  {
   "cell_type": "code",
   "execution_count": 211,
   "metadata": {},
   "outputs": [
    {
     "data": {
      "image/png": "[encoded data removed]",
      "text/plain": [
       "<Figure size 500x500 with 1 Axes>"
      ]
     },
     "metadata": {},
     "output_type": "display_data"
    }
   ],
   "source": [
    "real = y.loc[[test_name]].values\n",
    "\n",
    "test = pd.Series(real[0], index=y.columns)\n",
    "test['Name'] = test_name\n",
    "test = calculate_skill_nodes(test)\n",
    "plot_fm_radar(test, gk=False)"
   ]
  },
  {
   "cell_type": "code",
   "execution_count": 212,
   "metadata": {},
   "outputs": [
    {
     "data": {
      "text/html": [
       "<div>\n",
       "<style scoped>\n",
       "    .dataframe tbody tr th:only-of-type {\n",
       "        vertical-align: middle;\n",
       "    }\n",
       "\n",
       "    .dataframe tbody tr th {\n",
       "        vertical-align: top;\n",
       "    }\n",
       "\n",
       "    .dataframe thead th {\n",
       "        text-align: right;\n",
       "    }\n",
       "</style>\n",
       "<table border=\"1\" class=\"dataframe\">\n",
       "  <thead>\n",
       "    <tr style=\"text-align: right;\">\n",
       "      <th></th>\n",
       "      <th>prediction</th>\n",
       "      <th>real</th>\n",
       "    </tr>\n",
       "  </thead>\n",
       "  <tbody>\n",
       "    <tr>\n",
       "      <th>Corners</th>\n",
       "      <td>10.091048</td>\n",
       "      <td>10</td>\n",
       "    </tr>\n",
       "    <tr>\n",
       "      <th>Crossing</th>\n",
       "      <td>11.791957</td>\n",
       "      <td>12</td>\n",
       "    </tr>\n",
       "    <tr>\n",
       "      <th>Dribbling</th>\n",
       "      <td>13.254154</td>\n",
       "      <td>12</td>\n",
       "    </tr>\n",
       "    <tr>\n",
       "      <th>Finishing</th>\n",
       "      <td>10.096464</td>\n",
       "      <td>8</td>\n",
       "    </tr>\n",
       "    <tr>\n",
       "      <th>First Touch</th>\n",
       "      <td>12.556771</td>\n",
       "      <td>13</td>\n",
       "    </tr>\n",
       "    <tr>\n",
       "      <th>Free Kick Taking</th>\n",
       "      <td>9.497771</td>\n",
       "      <td>11</td>\n",
       "    </tr>\n",
       "    <tr>\n",
       "      <th>Heading</th>\n",
       "      <td>7.804465</td>\n",
       "      <td>8</td>\n",
       "    </tr>\n",
       "    <tr>\n",
       "      <th>Long Shots</th>\n",
       "      <td>10.620810</td>\n",
       "      <td>11</td>\n",
       "    </tr>\n",
       "    <tr>\n",
       "      <th>Long Throws</th>\n",
       "      <td>6.525189</td>\n",
       "      <td>3</td>\n",
       "    </tr>\n",
       "    <tr>\n",
       "      <th>Marking</th>\n",
       "      <td>7.391613</td>\n",
       "      <td>3</td>\n",
       "    </tr>\n",
       "    <tr>\n",
       "      <th>Passing</th>\n",
       "      <td>12.180605</td>\n",
       "      <td>13</td>\n",
       "    </tr>\n",
       "    <tr>\n",
       "      <th>Penalty Taking</th>\n",
       "      <td>9.498579</td>\n",
       "      <td>11</td>\n",
       "    </tr>\n",
       "    <tr>\n",
       "      <th>Tackling</th>\n",
       "      <td>8.991628</td>\n",
       "      <td>5</td>\n",
       "    </tr>\n",
       "    <tr>\n",
       "      <th>Technique</th>\n",
       "      <td>13.656271</td>\n",
       "      <td>13</td>\n",
       "    </tr>\n",
       "    <tr>\n",
       "      <th>Aggressiion</th>\n",
       "      <td>10.979986</td>\n",
       "      <td>11</td>\n",
       "    </tr>\n",
       "    <tr>\n",
       "      <th>Anticipation</th>\n",
       "      <td>11.521341</td>\n",
       "      <td>12</td>\n",
       "    </tr>\n",
       "    <tr>\n",
       "      <th>Bravery</th>\n",
       "      <td>10.783444</td>\n",
       "      <td>13</td>\n",
       "    </tr>\n",
       "    <tr>\n",
       "      <th>Composure</th>\n",
       "      <td>11.279579</td>\n",
       "      <td>13</td>\n",
       "    </tr>\n",
       "    <tr>\n",
       "      <th>Concentration</th>\n",
       "      <td>10.278046</td>\n",
       "      <td>11</td>\n",
       "    </tr>\n",
       "    <tr>\n",
       "      <th>Vision</th>\n",
       "      <td>12.019604</td>\n",
       "      <td>14</td>\n",
       "    </tr>\n",
       "    <tr>\n",
       "      <th>Decision</th>\n",
       "      <td>11.533388</td>\n",
       "      <td>12</td>\n",
       "    </tr>\n",
       "    <tr>\n",
       "      <th>Determination</th>\n",
       "      <td>12.507428</td>\n",
       "      <td>13</td>\n",
       "    </tr>\n",
       "    <tr>\n",
       "      <th>Flair</th>\n",
       "      <td>12.723745</td>\n",
       "      <td>13</td>\n",
       "    </tr>\n",
       "    <tr>\n",
       "      <th>Leadership</th>\n",
       "      <td>7.858976</td>\n",
       "      <td>10</td>\n",
       "    </tr>\n",
       "    <tr>\n",
       "      <th>Off The Ball</th>\n",
       "      <td>12.363838</td>\n",
       "      <td>12</td>\n",
       "    </tr>\n",
       "    <tr>\n",
       "      <th>Teamwork</th>\n",
       "      <td>11.528771</td>\n",
       "      <td>13</td>\n",
       "    </tr>\n",
       "    <tr>\n",
       "      <th>Work Rate</th>\n",
       "      <td>12.687217</td>\n",
       "      <td>13</td>\n",
       "    </tr>\n",
       "    <tr>\n",
       "      <th>Positioning</th>\n",
       "      <td>8.427652</td>\n",
       "      <td>9</td>\n",
       "    </tr>\n",
       "    <tr>\n",
       "      <th>Acceleration</th>\n",
       "      <td>13.719492</td>\n",
       "      <td>13</td>\n",
       "    </tr>\n",
       "    <tr>\n",
       "      <th>Agility</th>\n",
       "      <td>13.400649</td>\n",
       "      <td>13</td>\n",
       "    </tr>\n",
       "    <tr>\n",
       "      <th>Balance</th>\n",
       "      <td>11.810485</td>\n",
       "      <td>11</td>\n",
       "    </tr>\n",
       "    <tr>\n",
       "      <th>Jumping Reach</th>\n",
       "      <td>8.674965</td>\n",
       "      <td>8</td>\n",
       "    </tr>\n",
       "    <tr>\n",
       "      <th>Natural Fitness</th>\n",
       "      <td>12.661296</td>\n",
       "      <td>13</td>\n",
       "    </tr>\n",
       "    <tr>\n",
       "      <th>Pace</th>\n",
       "      <td>13.329598</td>\n",
       "      <td>12</td>\n",
       "    </tr>\n",
       "    <tr>\n",
       "      <th>Stamina</th>\n",
       "      <td>12.595149</td>\n",
       "      <td>12</td>\n",
       "    </tr>\n",
       "    <tr>\n",
       "      <th>Strength</th>\n",
       "      <td>9.825212</td>\n",
       "      <td>8</td>\n",
       "    </tr>\n",
       "  </tbody>\n",
       "</table>\n",
       "</div>"
      ],
      "text/plain": [
       "                  prediction  real\n",
       "Corners            10.091048    10\n",
       "Crossing           11.791957    12\n",
       "Dribbling          13.254154    12\n",
       "Finishing          10.096464     8\n",
       "First Touch        12.556771    13\n",
       "Free Kick Taking    9.497771    11\n",
       "Heading             7.804465     8\n",
       "Long Shots         10.620810    11\n",
       "Long Throws         6.525189     3\n",
       "Marking             7.391613     3\n",
       "Passing            12.180605    13\n",
       "Penalty Taking      9.498579    11\n",
       "Tackling            8.991628     5\n",
       "Technique          13.656271    13\n",
       "Aggressiion        10.979986    11\n",
       "Anticipation       11.521341    12\n",
       "Bravery            10.783444    13\n",
       "Composure          11.279579    13\n",
       "Concentration      10.278046    11\n",
       "Vision             12.019604    14\n",
       "Decision           11.533388    12\n",
       "Determination      12.507428    13\n",
       "Flair              12.723745    13\n",
       "Leadership          7.858976    10\n",
       "Off The Ball       12.363838    12\n",
       "Teamwork           11.528771    13\n",
       "Work Rate          12.687217    13\n",
       "Positioning         8.427652     9\n",
       "Acceleration       13.719492    13\n",
       "Agility            13.400649    13\n",
       "Balance            11.810485    11\n",
       "Jumping Reach       8.674965     8\n",
       "Natural Fitness    12.661296    13\n",
       "Pace               13.329598    12\n",
       "Stamina            12.595149    12\n",
       "Strength            9.825212     8"
      ]
     },
     "execution_count": 212,
     "metadata": {},
     "output_type": "execute_result"
    }
   ],
   "source": [
    "pd.DataFrame({'prediction':predictions[0],\n",
    "              'real':real[0]},\n",
    "              index=predict_columns)"
   ]
  },
  {
   "cell_type": "code",
   "execution_count": 213,
   "metadata": {},
   "outputs": [
    {
     "name": "stdout",
     "output_type": "stream",
     "text": [
      "Prediction mean : 11.012977374232083\n",
      "Real mean : 10.88888888888889\n"
     ]
    }
   ],
   "source": [
    "print(f'Prediction mean : {predictions[0].mean()}')\n",
    "print(f'Real mean : {real[0].mean()}')"
   ]
  },
  {
   "cell_type": "code",
   "execution_count": 172,
   "metadata": {},
   "outputs": [
    {
     "data": {
      "text/plain": [
       "Index(['Rico Henry', 'Gian Marco Ferrari', 'Simon Terodde', 'Vladimír Coufal',\n",
       "       'Matty Cash', 'Patrik Schick', 'Francesco Caputo', 'Pape Gueye',\n",
       "       'Raúl Albiol', 'Josuha Guilavogui',\n",
       "       ...\n",
       "       'Vitaly Janelt', 'Sargis Adamyan', 'Andrea Cambiaso',\n",
       "       'James Ward-Prowse', 'Duván Zapata', 'Álvaro Aguado',\n",
       "       'Brecht Dejaegere', 'Georginio Wijnaldum', 'Jeffrey Gouweleeuw',\n",
       "       'Daniele Verde'],\n",
       "      dtype='object', name='Name', length=304)"
      ]
     },
     "execution_count": 172,
     "metadata": {},
     "output_type": "execute_result"
    }
   ],
   "source": [
    "X_test.index"
   ]
  },
  {
   "cell_type": "code",
   "execution_count": null,
   "metadata": {},
   "outputs": [],
   "source": []
  },
  {
   "cell_type": "code",
   "execution_count": null,
   "metadata": {},
   "outputs": [],
   "source": []
  }
 ],
 "metadata": {
  "kernelspec": {
   "display_name": "fbref",
   "language": "python",
   "name": "python3"
  },
  "language_info": {
   "codemirror_mode": {
    "name": "ipython",
    "version": 3
   },
   "file_extension": ".py",
   "mimetype": "text/x-python",
   "name": "python",
   "nbconvert_exporter": "python",
   "pygments_lexer": "ipython3",
   "version": "3.12.0"
  }
 },
 "nbformat": 4,
 "nbformat_minor": 2
}
